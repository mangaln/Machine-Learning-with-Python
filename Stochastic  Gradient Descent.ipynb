{
 "cells": [
  {
   "cell_type": "markdown",
   "metadata": {},
   "source": [
    "Assignment 2 - Questions\n",
    "Use the merged data frame from Assignment 1 for this assignment This Assignment focuses on data preprocessing and model building. Continue with the datasets loaded in Assignment 1 (or reload with same steps and create merged data frame) and Make a stratified 80-20 split based on target to ensure there are no biases in the dataset. Predict the \"total_cases\" using a stochastic gradient descent regressor. Calculate the Root Mean Square Error. Also, plot Learning Curve for the model. Provide your intepretations based on these metrics.\n",
    "\n",
    "Import the required libraries\n",
    "Make an 80-20 stratified split based on the target data\n",
    "Preprocess the data (Encode the categorical features and Standardize the numerical features)\n",
    "Build a stochastic gradient descent regressor, train the model\n",
    "Evaluate your model based on applicable metrics. Show the metric(s) you chose and why you chose this(these) metrics.\n",
    "List the hyper-parameters that can be tuned in SGD. Show the code along with comments on the parameter value chosen (use class presentation, discussion notes, some online reading) and why this value was chosen. Show the improvement you achieved in model accuracy. \n",
    "Plot Learning curve and provide insights\n",
    "Create a submission file which has predictions for both cities in the submission format prescribed by the contest at the link https://www.drivendata.org/competitions/44/dengai-predicting-disease-spread/data/\n",
    "Optional: Submit your predictions to the contest. You will get a submission score. Update it here. As you improve your model in next assignments, you can try to improve this score.\n",
    "Submit the following for this assignment:\n",
    "\n",
    ".ipynb and .html formats of Jupyter notebook code with outputs and\n",
    "the submission_format.csv with your predictions"
   ]
  },
  {
   "cell_type": "markdown",
   "metadata": {},
   "source": [
    "_import the data from assignment 1 with merged dataset_"
   ]
  },
  {
   "cell_type": "code",
   "execution_count": 781,
   "metadata": {},
   "outputs": [
    {
     "data": {
      "text/html": [
       "<div>\n",
       "<style scoped>\n",
       "    .dataframe tbody tr th:only-of-type {\n",
       "        vertical-align: middle;\n",
       "    }\n",
       "\n",
       "    .dataframe tbody tr th {\n",
       "        vertical-align: top;\n",
       "    }\n",
       "\n",
       "    .dataframe thead th {\n",
       "        text-align: right;\n",
       "    }\n",
       "</style>\n",
       "<table border=\"1\" class=\"dataframe\">\n",
       "  <thead>\n",
       "    <tr style=\"text-align: right;\">\n",
       "      <th></th>\n",
       "      <th>city</th>\n",
       "      <th>year</th>\n",
       "      <th>weekofyear</th>\n",
       "      <th>week_start_date</th>\n",
       "      <th>ndvi_ne</th>\n",
       "      <th>ndvi_nw</th>\n",
       "      <th>ndvi_se</th>\n",
       "      <th>ndvi_sw</th>\n",
       "      <th>prec_amt_mm</th>\n",
       "      <th>re_an_air_temp_k</th>\n",
       "      <th>...</th>\n",
       "      <th>re_an_relative_hd_percent</th>\n",
       "      <th>re_an_sat_precip_amt_mm</th>\n",
       "      <th>re_an_specific_hd_g_per_kg</th>\n",
       "      <th>re_an_tdtr_k</th>\n",
       "      <th>stn_avg_temp_c</th>\n",
       "      <th>stn_diur_temp_rng_c</th>\n",
       "      <th>stn_max_temp_c</th>\n",
       "      <th>stn_min_temp_c</th>\n",
       "      <th>stn_precip_mm</th>\n",
       "      <th>total_cases</th>\n",
       "    </tr>\n",
       "  </thead>\n",
       "  <tbody>\n",
       "    <tr>\n",
       "      <th>0</th>\n",
       "      <td>sj</td>\n",
       "      <td>1990</td>\n",
       "      <td>18</td>\n",
       "      <td>1990-04-30</td>\n",
       "      <td>0.122600</td>\n",
       "      <td>0.103725</td>\n",
       "      <td>0.198483</td>\n",
       "      <td>0.177617</td>\n",
       "      <td>12.42</td>\n",
       "      <td>297.572857</td>\n",
       "      <td>...</td>\n",
       "      <td>73.365714</td>\n",
       "      <td>12.42</td>\n",
       "      <td>14.012857</td>\n",
       "      <td>2.628571</td>\n",
       "      <td>25.442857</td>\n",
       "      <td>6.900000</td>\n",
       "      <td>29.4</td>\n",
       "      <td>20.0</td>\n",
       "      <td>16.0</td>\n",
       "      <td>4</td>\n",
       "    </tr>\n",
       "    <tr>\n",
       "      <th>1</th>\n",
       "      <td>sj</td>\n",
       "      <td>1990</td>\n",
       "      <td>19</td>\n",
       "      <td>1990-05-07</td>\n",
       "      <td>0.169900</td>\n",
       "      <td>0.142175</td>\n",
       "      <td>0.162357</td>\n",
       "      <td>0.155486</td>\n",
       "      <td>22.82</td>\n",
       "      <td>298.211429</td>\n",
       "      <td>...</td>\n",
       "      <td>77.368571</td>\n",
       "      <td>22.82</td>\n",
       "      <td>15.372857</td>\n",
       "      <td>2.371429</td>\n",
       "      <td>26.714286</td>\n",
       "      <td>6.371429</td>\n",
       "      <td>31.7</td>\n",
       "      <td>22.2</td>\n",
       "      <td>8.6</td>\n",
       "      <td>5</td>\n",
       "    </tr>\n",
       "    <tr>\n",
       "      <th>2</th>\n",
       "      <td>sj</td>\n",
       "      <td>1990</td>\n",
       "      <td>20</td>\n",
       "      <td>1990-05-14</td>\n",
       "      <td>0.032250</td>\n",
       "      <td>0.172967</td>\n",
       "      <td>0.157200</td>\n",
       "      <td>0.170843</td>\n",
       "      <td>34.54</td>\n",
       "      <td>298.781429</td>\n",
       "      <td>...</td>\n",
       "      <td>82.052857</td>\n",
       "      <td>34.54</td>\n",
       "      <td>16.848571</td>\n",
       "      <td>2.300000</td>\n",
       "      <td>26.714286</td>\n",
       "      <td>6.485714</td>\n",
       "      <td>32.2</td>\n",
       "      <td>22.8</td>\n",
       "      <td>41.4</td>\n",
       "      <td>4</td>\n",
       "    </tr>\n",
       "    <tr>\n",
       "      <th>3</th>\n",
       "      <td>sj</td>\n",
       "      <td>1990</td>\n",
       "      <td>21</td>\n",
       "      <td>1990-05-21</td>\n",
       "      <td>0.128633</td>\n",
       "      <td>0.245067</td>\n",
       "      <td>0.227557</td>\n",
       "      <td>0.235886</td>\n",
       "      <td>15.36</td>\n",
       "      <td>298.987143</td>\n",
       "      <td>...</td>\n",
       "      <td>80.337143</td>\n",
       "      <td>15.36</td>\n",
       "      <td>16.672857</td>\n",
       "      <td>2.428571</td>\n",
       "      <td>27.471429</td>\n",
       "      <td>6.771429</td>\n",
       "      <td>33.3</td>\n",
       "      <td>23.3</td>\n",
       "      <td>4.0</td>\n",
       "      <td>3</td>\n",
       "    </tr>\n",
       "    <tr>\n",
       "      <th>4</th>\n",
       "      <td>sj</td>\n",
       "      <td>1990</td>\n",
       "      <td>22</td>\n",
       "      <td>1990-05-28</td>\n",
       "      <td>0.196200</td>\n",
       "      <td>0.262200</td>\n",
       "      <td>0.251200</td>\n",
       "      <td>0.247340</td>\n",
       "      <td>7.52</td>\n",
       "      <td>299.518571</td>\n",
       "      <td>...</td>\n",
       "      <td>80.460000</td>\n",
       "      <td>7.52</td>\n",
       "      <td>17.210000</td>\n",
       "      <td>3.014286</td>\n",
       "      <td>28.942857</td>\n",
       "      <td>9.371429</td>\n",
       "      <td>35.0</td>\n",
       "      <td>23.9</td>\n",
       "      <td>5.8</td>\n",
       "      <td>6</td>\n",
       "    </tr>\n",
       "  </tbody>\n",
       "</table>\n",
       "<p>5 rows × 25 columns</p>\n",
       "</div>"
      ],
      "text/plain": [
       "  city  year  weekofyear week_start_date   ndvi_ne   ndvi_nw   ndvi_se  \\\n",
       "0   sj  1990          18      1990-04-30  0.122600  0.103725  0.198483   \n",
       "1   sj  1990          19      1990-05-07  0.169900  0.142175  0.162357   \n",
       "2   sj  1990          20      1990-05-14  0.032250  0.172967  0.157200   \n",
       "3   sj  1990          21      1990-05-21  0.128633  0.245067  0.227557   \n",
       "4   sj  1990          22      1990-05-28  0.196200  0.262200  0.251200   \n",
       "\n",
       "    ndvi_sw  prec_amt_mm  re_an_air_temp_k  ...  re_an_relative_hd_percent  \\\n",
       "0  0.177617        12.42        297.572857  ...                  73.365714   \n",
       "1  0.155486        22.82        298.211429  ...                  77.368571   \n",
       "2  0.170843        34.54        298.781429  ...                  82.052857   \n",
       "3  0.235886        15.36        298.987143  ...                  80.337143   \n",
       "4  0.247340         7.52        299.518571  ...                  80.460000   \n",
       "\n",
       "   re_an_sat_precip_amt_mm  re_an_specific_hd_g_per_kg  re_an_tdtr_k  \\\n",
       "0                    12.42                   14.012857      2.628571   \n",
       "1                    22.82                   15.372857      2.371429   \n",
       "2                    34.54                   16.848571      2.300000   \n",
       "3                    15.36                   16.672857      2.428571   \n",
       "4                     7.52                   17.210000      3.014286   \n",
       "\n",
       "   stn_avg_temp_c  stn_diur_temp_rng_c  stn_max_temp_c  stn_min_temp_c  \\\n",
       "0       25.442857             6.900000            29.4            20.0   \n",
       "1       26.714286             6.371429            31.7            22.2   \n",
       "2       26.714286             6.485714            32.2            22.8   \n",
       "3       27.471429             6.771429            33.3            23.3   \n",
       "4       28.942857             9.371429            35.0            23.9   \n",
       "\n",
       "   stn_precip_mm  total_cases  \n",
       "0           16.0            4  \n",
       "1            8.6            5  \n",
       "2           41.4            4  \n",
       "3            4.0            3  \n",
       "4            5.8            6  \n",
       "\n",
       "[5 rows x 25 columns]"
      ]
     },
     "execution_count": 781,
     "metadata": {},
     "output_type": "execute_result"
    }
   ],
   "source": [
    "import pandas as pd\n",
    "df=pd.read_csv(\"df_merged.csv\")\n",
    "df.head()"
   ]
  },
  {
   "cell_type": "markdown",
   "metadata": {},
   "source": [
    "_Removing outliers from the dataset using first and third quantile, any datapoint 1.5 Standard deviation above third quantile and below first quantile has been removed_"
   ]
  },
  {
   "cell_type": "code",
   "execution_count": 782,
   "metadata": {},
   "outputs": [
    {
     "name": "stdout",
     "output_type": "stream",
     "text": [
      "23.0\n",
      "(124, 25)\n"
     ]
    }
   ],
   "source": [
    "Q1=df['total_cases'].quantile(0.25)\n",
    "Q3=df['total_cases'].quantile(0.75)\n",
    "IQR=Q3-Q1\n",
    "print(IQR)\n",
    "df_out=pd.DataFrame()\n",
    "df_out=df[(df['total_cases']<(Q1-1.5*IQR))|(df['total_cases']>(Q3+1.5*IQR))]\n",
    "print(df_out.shape)"
   ]
  },
  {
   "cell_type": "code",
   "execution_count": 783,
   "metadata": {},
   "outputs": [
    {
     "data": {
      "text/plain": [
       "(1332, 25)"
      ]
     },
     "execution_count": 783,
     "metadata": {},
     "output_type": "execute_result"
    }
   ],
   "source": [
    "df_noout=df[~((df['total_cases']<(Q1-1.5*IQR))|(df['total_cases']>(Q3+1.5*IQR)))]\n",
    "df_noout.shape"
   ]
  },
  {
   "cell_type": "code",
   "execution_count": 784,
   "metadata": {},
   "outputs": [
    {
     "data": {
      "text/html": [
       "<div>\n",
       "<style scoped>\n",
       "    .dataframe tbody tr th:only-of-type {\n",
       "        vertical-align: middle;\n",
       "    }\n",
       "\n",
       "    .dataframe tbody tr th {\n",
       "        vertical-align: top;\n",
       "    }\n",
       "\n",
       "    .dataframe thead th {\n",
       "        text-align: right;\n",
       "    }\n",
       "</style>\n",
       "<table border=\"1\" class=\"dataframe\">\n",
       "  <thead>\n",
       "    <tr style=\"text-align: right;\">\n",
       "      <th></th>\n",
       "      <th>city</th>\n",
       "      <th>year</th>\n",
       "      <th>ndvi_ne</th>\n",
       "      <th>ndvi_nw</th>\n",
       "      <th>ndvi_se</th>\n",
       "      <th>ndvi_sw</th>\n",
       "      <th>prec_amt_mm</th>\n",
       "      <th>re_an_air_temp_k</th>\n",
       "      <th>re_an_avg_temp_k</th>\n",
       "      <th>re_an_dew_point_temp_k</th>\n",
       "      <th>...</th>\n",
       "      <th>re_an_relative_hd_percent</th>\n",
       "      <th>re_an_sat_precip_amt_mm</th>\n",
       "      <th>re_an_specific_hd_g_per_kg</th>\n",
       "      <th>re_an_tdtr_k</th>\n",
       "      <th>stn_avg_temp_c</th>\n",
       "      <th>stn_diur_temp_rng_c</th>\n",
       "      <th>stn_max_temp_c</th>\n",
       "      <th>stn_min_temp_c</th>\n",
       "      <th>stn_precip_mm</th>\n",
       "      <th>total_cases</th>\n",
       "    </tr>\n",
       "  </thead>\n",
       "  <tbody>\n",
       "    <tr>\n",
       "      <th>0</th>\n",
       "      <td>sj</td>\n",
       "      <td>1990</td>\n",
       "      <td>0.122600</td>\n",
       "      <td>0.103725</td>\n",
       "      <td>0.198483</td>\n",
       "      <td>0.177617</td>\n",
       "      <td>12.42</td>\n",
       "      <td>297.572857</td>\n",
       "      <td>297.742857</td>\n",
       "      <td>292.414286</td>\n",
       "      <td>...</td>\n",
       "      <td>73.365714</td>\n",
       "      <td>12.42</td>\n",
       "      <td>14.012857</td>\n",
       "      <td>2.628571</td>\n",
       "      <td>25.442857</td>\n",
       "      <td>6.900000</td>\n",
       "      <td>29.4</td>\n",
       "      <td>20.0</td>\n",
       "      <td>16.0</td>\n",
       "      <td>4</td>\n",
       "    </tr>\n",
       "    <tr>\n",
       "      <th>1</th>\n",
       "      <td>sj</td>\n",
       "      <td>1990</td>\n",
       "      <td>0.169900</td>\n",
       "      <td>0.142175</td>\n",
       "      <td>0.162357</td>\n",
       "      <td>0.155486</td>\n",
       "      <td>22.82</td>\n",
       "      <td>298.211429</td>\n",
       "      <td>298.442857</td>\n",
       "      <td>293.951429</td>\n",
       "      <td>...</td>\n",
       "      <td>77.368571</td>\n",
       "      <td>22.82</td>\n",
       "      <td>15.372857</td>\n",
       "      <td>2.371429</td>\n",
       "      <td>26.714286</td>\n",
       "      <td>6.371429</td>\n",
       "      <td>31.7</td>\n",
       "      <td>22.2</td>\n",
       "      <td>8.6</td>\n",
       "      <td>5</td>\n",
       "    </tr>\n",
       "    <tr>\n",
       "      <th>2</th>\n",
       "      <td>sj</td>\n",
       "      <td>1990</td>\n",
       "      <td>0.032250</td>\n",
       "      <td>0.172967</td>\n",
       "      <td>0.157200</td>\n",
       "      <td>0.170843</td>\n",
       "      <td>34.54</td>\n",
       "      <td>298.781429</td>\n",
       "      <td>298.878571</td>\n",
       "      <td>295.434286</td>\n",
       "      <td>...</td>\n",
       "      <td>82.052857</td>\n",
       "      <td>34.54</td>\n",
       "      <td>16.848571</td>\n",
       "      <td>2.300000</td>\n",
       "      <td>26.714286</td>\n",
       "      <td>6.485714</td>\n",
       "      <td>32.2</td>\n",
       "      <td>22.8</td>\n",
       "      <td>41.4</td>\n",
       "      <td>4</td>\n",
       "    </tr>\n",
       "    <tr>\n",
       "      <th>3</th>\n",
       "      <td>sj</td>\n",
       "      <td>1990</td>\n",
       "      <td>0.128633</td>\n",
       "      <td>0.245067</td>\n",
       "      <td>0.227557</td>\n",
       "      <td>0.235886</td>\n",
       "      <td>15.36</td>\n",
       "      <td>298.987143</td>\n",
       "      <td>299.228571</td>\n",
       "      <td>295.310000</td>\n",
       "      <td>...</td>\n",
       "      <td>80.337143</td>\n",
       "      <td>15.36</td>\n",
       "      <td>16.672857</td>\n",
       "      <td>2.428571</td>\n",
       "      <td>27.471429</td>\n",
       "      <td>6.771429</td>\n",
       "      <td>33.3</td>\n",
       "      <td>23.3</td>\n",
       "      <td>4.0</td>\n",
       "      <td>3</td>\n",
       "    </tr>\n",
       "    <tr>\n",
       "      <th>4</th>\n",
       "      <td>sj</td>\n",
       "      <td>1990</td>\n",
       "      <td>0.196200</td>\n",
       "      <td>0.262200</td>\n",
       "      <td>0.251200</td>\n",
       "      <td>0.247340</td>\n",
       "      <td>7.52</td>\n",
       "      <td>299.518571</td>\n",
       "      <td>299.664286</td>\n",
       "      <td>295.821429</td>\n",
       "      <td>...</td>\n",
       "      <td>80.460000</td>\n",
       "      <td>7.52</td>\n",
       "      <td>17.210000</td>\n",
       "      <td>3.014286</td>\n",
       "      <td>28.942857</td>\n",
       "      <td>9.371429</td>\n",
       "      <td>35.0</td>\n",
       "      <td>23.9</td>\n",
       "      <td>5.8</td>\n",
       "      <td>6</td>\n",
       "    </tr>\n",
       "  </tbody>\n",
       "</table>\n",
       "<p>5 rows × 23 columns</p>\n",
       "</div>"
      ],
      "text/plain": [
       "  city  year   ndvi_ne   ndvi_nw   ndvi_se   ndvi_sw  prec_amt_mm  \\\n",
       "0   sj  1990  0.122600  0.103725  0.198483  0.177617        12.42   \n",
       "1   sj  1990  0.169900  0.142175  0.162357  0.155486        22.82   \n",
       "2   sj  1990  0.032250  0.172967  0.157200  0.170843        34.54   \n",
       "3   sj  1990  0.128633  0.245067  0.227557  0.235886        15.36   \n",
       "4   sj  1990  0.196200  0.262200  0.251200  0.247340         7.52   \n",
       "\n",
       "   re_an_air_temp_k  re_an_avg_temp_k  re_an_dew_point_temp_k  ...  \\\n",
       "0        297.572857        297.742857              292.414286  ...   \n",
       "1        298.211429        298.442857              293.951429  ...   \n",
       "2        298.781429        298.878571              295.434286  ...   \n",
       "3        298.987143        299.228571              295.310000  ...   \n",
       "4        299.518571        299.664286              295.821429  ...   \n",
       "\n",
       "   re_an_relative_hd_percent  re_an_sat_precip_amt_mm  \\\n",
       "0                  73.365714                    12.42   \n",
       "1                  77.368571                    22.82   \n",
       "2                  82.052857                    34.54   \n",
       "3                  80.337143                    15.36   \n",
       "4                  80.460000                     7.52   \n",
       "\n",
       "   re_an_specific_hd_g_per_kg  re_an_tdtr_k  stn_avg_temp_c  \\\n",
       "0                   14.012857      2.628571       25.442857   \n",
       "1                   15.372857      2.371429       26.714286   \n",
       "2                   16.848571      2.300000       26.714286   \n",
       "3                   16.672857      2.428571       27.471429   \n",
       "4                   17.210000      3.014286       28.942857   \n",
       "\n",
       "   stn_diur_temp_rng_c  stn_max_temp_c  stn_min_temp_c  stn_precip_mm  \\\n",
       "0             6.900000            29.4            20.0           16.0   \n",
       "1             6.371429            31.7            22.2            8.6   \n",
       "2             6.485714            32.2            22.8           41.4   \n",
       "3             6.771429            33.3            23.3            4.0   \n",
       "4             9.371429            35.0            23.9            5.8   \n",
       "\n",
       "   total_cases  \n",
       "0            4  \n",
       "1            5  \n",
       "2            4  \n",
       "3            3  \n",
       "4            6  \n",
       "\n",
       "[5 rows x 23 columns]"
      ]
     },
     "execution_count": 784,
     "metadata": {},
     "output_type": "execute_result"
    }
   ],
   "source": [
    "df_noout=df_noout.drop(columns=['week_start_date','weekofyear'])\n",
    "df_noout.head()"
   ]
  },
  {
   "cell_type": "markdown",
   "metadata": {},
   "source": [
    "_Checking the maximum datapoints around which value by using histogram, so that we can create the stratified split accordingly_"
   ]
  },
  {
   "cell_type": "code",
   "execution_count": 785,
   "metadata": {},
   "outputs": [
    {
     "data": {
      "text/plain": [
       "<matplotlib.axes._subplots.AxesSubplot at 0x2e54e928748>"
      ]
     },
     "execution_count": 785,
     "metadata": {},
     "output_type": "execute_result"
    },
    {
     "data": {
      "image/png": "[encoded data removed]",
      "text/plain": [
       "<Figure size 432x288 with 1 Axes>"
      ]
     },
     "metadata": {
      "needs_background": "light"
     },
     "output_type": "display_data"
    }
   ],
   "source": [
    "df_noout['total_cases'].hist(bins=60)"
   ]
  },
  {
   "cell_type": "markdown",
   "metadata": {},
   "source": [
    "_Create a total cases attribute to choose the reliable datapoint and remove the biases like as we can see in above plot some datapoints near by 60 can be biased one_"
   ]
  },
  {
   "cell_type": "code",
   "execution_count": 786,
   "metadata": {},
   "outputs": [
    {
     "name": "stdout",
     "output_type": "stream",
     "text": [
      "[1. 2. 3. 4. 0.]\n"
     ]
    },
    {
     "data": {
      "image/png": "[encoded data removed]",
      "text/plain": [
       "<Figure size 432x288 with 1 Axes>"
      ]
     },
     "metadata": {
      "needs_background": "light"
     },
     "output_type": "display_data"
    }
   ],
   "source": [
    "df_noout[\"total_cases_cat\"]=np.ceil(df_noout[\"total_cases\"]/10) \n",
    "df_noout[\"total_cases_cat\"].where(df_noout[\"total_cases_cat\"]<4,4.0,inplace=True)\n",
    "df_noout[\"total_cases_cat\"].hist()\n",
    "print(df_noout[\"total_cases_cat\"].unique())"
   ]
  },
  {
   "cell_type": "markdown",
   "metadata": {},
   "source": [
    "_The data is divided into following category with some percentage, the same should be there for split_"
   ]
  },
  {
   "cell_type": "code",
   "execution_count": 787,
   "metadata": {},
   "outputs": [
    {
     "data": {
      "text/plain": [
       "1.0    0.434685\n",
       "2.0    0.215465\n",
       "4.0    0.147147\n",
       "3.0    0.127628\n",
       "0.0    0.075075\n",
       "Name: total_cases_cat, dtype: float64"
      ]
     },
     "execution_count": 787,
     "metadata": {},
     "output_type": "execute_result"
    }
   ],
   "source": [
    "df_noout[\"total_cases_cat\"].value_counts()/len(df_noout) "
   ]
  },
  {
   "cell_type": "markdown",
   "metadata": {},
   "source": [
    "_Now split the data into 80:20 split by using stratified split method so that both train and test can have equal percentage of all categories_"
   ]
  },
  {
   "cell_type": "code",
   "execution_count": 788,
   "metadata": {},
   "outputs": [
    {
     "name": "stdout",
     "output_type": "stream",
     "text": [
      "1.0    0.434742\n",
      "2.0    0.215023\n",
      "4.0    0.147418\n",
      "3.0    0.127700\n",
      "0.0    0.075117\n",
      "Name: total_cases_cat, dtype: float64\n"
     ]
    },
    {
     "data": {
      "text/plain": [
       "1.0    0.434457\n",
       "2.0    0.217228\n",
       "4.0    0.146067\n",
       "3.0    0.127341\n",
       "0.0    0.074906\n",
       "Name: total_cases_cat, dtype: float64"
      ]
     },
     "execution_count": 788,
     "metadata": {},
     "output_type": "execute_result"
    }
   ],
   "source": [
    "from sklearn.model_selection import StratifiedShuffleSplit\n",
    "split=StratifiedShuffleSplit(n_splits=4,test_size=0.2,random_state=42) \n",
    "for train_index,test_index in split.split(df_noout,df_noout[\"total_cases_cat\"]):\n",
    "    train_set=df_noout.iloc[train_index]\n",
    "    test_set=df_noout.iloc[test_index]\n",
    "print(train_set[\"total_cases_cat\"].value_counts()/len(train_set)) \n",
    "test_set[\"total_cases_cat\"].value_counts()/len(test_set)"
   ]
  },
  {
   "cell_type": "code",
   "execution_count": 789,
   "metadata": {},
   "outputs": [
    {
     "data": {
      "text/html": [
       "<div>\n",
       "<style scoped>\n",
       "    .dataframe tbody tr th:only-of-type {\n",
       "        vertical-align: middle;\n",
       "    }\n",
       "\n",
       "    .dataframe tbody tr th {\n",
       "        vertical-align: top;\n",
       "    }\n",
       "\n",
       "    .dataframe thead th {\n",
       "        text-align: right;\n",
       "    }\n",
       "</style>\n",
       "<table border=\"1\" class=\"dataframe\">\n",
       "  <thead>\n",
       "    <tr style=\"text-align: right;\">\n",
       "      <th></th>\n",
       "      <th>city</th>\n",
       "      <th>year</th>\n",
       "      <th>ndvi_ne</th>\n",
       "      <th>ndvi_nw</th>\n",
       "      <th>ndvi_se</th>\n",
       "      <th>ndvi_sw</th>\n",
       "      <th>prec_amt_mm</th>\n",
       "      <th>re_an_air_temp_k</th>\n",
       "      <th>re_an_avg_temp_k</th>\n",
       "      <th>re_an_dew_point_temp_k</th>\n",
       "      <th>...</th>\n",
       "      <th>re_an_sat_precip_amt_mm</th>\n",
       "      <th>re_an_specific_hd_g_per_kg</th>\n",
       "      <th>re_an_tdtr_k</th>\n",
       "      <th>stn_avg_temp_c</th>\n",
       "      <th>stn_diur_temp_rng_c</th>\n",
       "      <th>stn_max_temp_c</th>\n",
       "      <th>stn_min_temp_c</th>\n",
       "      <th>stn_precip_mm</th>\n",
       "      <th>total_cases</th>\n",
       "      <th>total_cases_cat</th>\n",
       "    </tr>\n",
       "  </thead>\n",
       "  <tbody>\n",
       "    <tr>\n",
       "      <th>1076</th>\n",
       "      <td>iq</td>\n",
       "      <td>2003</td>\n",
       "      <td>0.200000</td>\n",
       "      <td>0.190286</td>\n",
       "      <td>0.158943</td>\n",
       "      <td>0.163629</td>\n",
       "      <td>47.97</td>\n",
       "      <td>296.680000</td>\n",
       "      <td>297.635714</td>\n",
       "      <td>295.941429</td>\n",
       "      <td>...</td>\n",
       "      <td>47.97</td>\n",
       "      <td>17.515714</td>\n",
       "      <td>6.242857</td>\n",
       "      <td>26.700000</td>\n",
       "      <td>7.500000</td>\n",
       "      <td>32.0</td>\n",
       "      <td>22.1</td>\n",
       "      <td>98.4</td>\n",
       "      <td>4</td>\n",
       "      <td>1.0</td>\n",
       "    </tr>\n",
       "    <tr>\n",
       "      <th>571</th>\n",
       "      <td>sj</td>\n",
       "      <td>2001</td>\n",
       "      <td>0.072800</td>\n",
       "      <td>0.058550</td>\n",
       "      <td>0.122729</td>\n",
       "      <td>0.113186</td>\n",
       "      <td>35.69</td>\n",
       "      <td>298.751429</td>\n",
       "      <td>298.835714</td>\n",
       "      <td>294.281429</td>\n",
       "      <td>...</td>\n",
       "      <td>35.69</td>\n",
       "      <td>15.630000</td>\n",
       "      <td>3.128571</td>\n",
       "      <td>27.200000</td>\n",
       "      <td>7.771429</td>\n",
       "      <td>33.3</td>\n",
       "      <td>22.8</td>\n",
       "      <td>20.6</td>\n",
       "      <td>6</td>\n",
       "      <td>1.0</td>\n",
       "    </tr>\n",
       "    <tr>\n",
       "      <th>459</th>\n",
       "      <td>sj</td>\n",
       "      <td>1999</td>\n",
       "      <td>0.129050</td>\n",
       "      <td>0.086000</td>\n",
       "      <td>0.123471</td>\n",
       "      <td>0.132500</td>\n",
       "      <td>23.90</td>\n",
       "      <td>295.938571</td>\n",
       "      <td>296.114286</td>\n",
       "      <td>290.634286</td>\n",
       "      <td>...</td>\n",
       "      <td>23.90</td>\n",
       "      <td>12.492857</td>\n",
       "      <td>2.714286</td>\n",
       "      <td>24.042857</td>\n",
       "      <td>6.900000</td>\n",
       "      <td>28.9</td>\n",
       "      <td>18.9</td>\n",
       "      <td>0.0</td>\n",
       "      <td>37</td>\n",
       "      <td>4.0</td>\n",
       "    </tr>\n",
       "    <tr>\n",
       "      <th>1336</th>\n",
       "      <td>iq</td>\n",
       "      <td>2008</td>\n",
       "      <td>0.129243</td>\n",
       "      <td>0.172957</td>\n",
       "      <td>0.126029</td>\n",
       "      <td>0.150657</td>\n",
       "      <td>96.05</td>\n",
       "      <td>298.017143</td>\n",
       "      <td>299.592857</td>\n",
       "      <td>295.900000</td>\n",
       "      <td>...</td>\n",
       "      <td>96.05</td>\n",
       "      <td>17.505714</td>\n",
       "      <td>9.014286</td>\n",
       "      <td>26.250000</td>\n",
       "      <td>7.800000</td>\n",
       "      <td>33.2</td>\n",
       "      <td>22.2</td>\n",
       "      <td>64.4</td>\n",
       "      <td>9</td>\n",
       "      <td>1.0</td>\n",
       "    </tr>\n",
       "    <tr>\n",
       "      <th>310</th>\n",
       "      <td>sj</td>\n",
       "      <td>1996</td>\n",
       "      <td>0.088933</td>\n",
       "      <td>0.122350</td>\n",
       "      <td>0.216214</td>\n",
       "      <td>0.227829</td>\n",
       "      <td>46.16</td>\n",
       "      <td>297.852857</td>\n",
       "      <td>298.092857</td>\n",
       "      <td>293.800000</td>\n",
       "      <td>...</td>\n",
       "      <td>46.16</td>\n",
       "      <td>15.185714</td>\n",
       "      <td>2.300000</td>\n",
       "      <td>26.128571</td>\n",
       "      <td>6.728571</td>\n",
       "      <td>32.2</td>\n",
       "      <td>21.1</td>\n",
       "      <td>8.9</td>\n",
       "      <td>11</td>\n",
       "      <td>2.0</td>\n",
       "    </tr>\n",
       "  </tbody>\n",
       "</table>\n",
       "<p>5 rows × 24 columns</p>\n",
       "</div>"
      ],
      "text/plain": [
       "     city  year   ndvi_ne   ndvi_nw   ndvi_se   ndvi_sw  prec_amt_mm  \\\n",
       "1076   iq  2003  0.200000  0.190286  0.158943  0.163629        47.97   \n",
       "571    sj  2001  0.072800  0.058550  0.122729  0.113186        35.69   \n",
       "459    sj  1999  0.129050  0.086000  0.123471  0.132500        23.90   \n",
       "1336   iq  2008  0.129243  0.172957  0.126029  0.150657        96.05   \n",
       "310    sj  1996  0.088933  0.122350  0.216214  0.227829        46.16   \n",
       "\n",
       "      re_an_air_temp_k  re_an_avg_temp_k  re_an_dew_point_temp_k  ...  \\\n",
       "1076        296.680000        297.635714              295.941429  ...   \n",
       "571         298.751429        298.835714              294.281429  ...   \n",
       "459         295.938571        296.114286              290.634286  ...   \n",
       "1336        298.017143        299.592857              295.900000  ...   \n",
       "310         297.852857        298.092857              293.800000  ...   \n",
       "\n",
       "      re_an_sat_precip_amt_mm  re_an_specific_hd_g_per_kg  re_an_tdtr_k  \\\n",
       "1076                    47.97                   17.515714      6.242857   \n",
       "571                     35.69                   15.630000      3.128571   \n",
       "459                     23.90                   12.492857      2.714286   \n",
       "1336                    96.05                   17.505714      9.014286   \n",
       "310                     46.16                   15.185714      2.300000   \n",
       "\n",
       "      stn_avg_temp_c  stn_diur_temp_rng_c  stn_max_temp_c  stn_min_temp_c  \\\n",
       "1076       26.700000             7.500000            32.0            22.1   \n",
       "571        27.200000             7.771429            33.3            22.8   \n",
       "459        24.042857             6.900000            28.9            18.9   \n",
       "1336       26.250000             7.800000            33.2            22.2   \n",
       "310        26.128571             6.728571            32.2            21.1   \n",
       "\n",
       "      stn_precip_mm  total_cases  total_cases_cat  \n",
       "1076           98.4            4              1.0  \n",
       "571            20.6            6              1.0  \n",
       "459             0.0           37              4.0  \n",
       "1336           64.4            9              1.0  \n",
       "310             8.9           11              2.0  \n",
       "\n",
       "[5 rows x 24 columns]"
      ]
     },
     "execution_count": 789,
     "metadata": {},
     "output_type": "execute_result"
    }
   ],
   "source": [
    "abc=pd.DataFrame.copy(train_set)\n",
    "abc.head()"
   ]
  },
  {
   "cell_type": "markdown",
   "metadata": {},
   "source": [
    "_Encoding the categorical variable like city and year using label encoder,as it is the most efficient method, with one hot encoding and get dummies, it will create multiple column for each category_"
   ]
  },
  {
   "cell_type": "code",
   "execution_count": 790,
   "metadata": {},
   "outputs": [
    {
     "name": "stderr",
     "output_type": "stream",
     "text": [
      "C:\\Users\\18132\\Anaconda3\\lib\\site-packages\\ipykernel_launcher.py:3: SettingWithCopyWarning: \n",
      "A value is trying to be set on a copy of a slice from a DataFrame.\n",
      "Try using .loc[row_indexer,col_indexer] = value instead\n",
      "\n",
      "See the caveats in the documentation: http://pandas.pydata.org/pandas-docs/stable/indexing.html#indexing-view-versus-copy\n",
      "  This is separate from the ipykernel package so we can avoid doing imports until\n",
      "C:\\Users\\18132\\Anaconda3\\lib\\site-packages\\ipykernel_launcher.py:4: SettingWithCopyWarning: \n",
      "A value is trying to be set on a copy of a slice from a DataFrame.\n",
      "Try using .loc[row_indexer,col_indexer] = value instead\n",
      "\n",
      "See the caveats in the documentation: http://pandas.pydata.org/pandas-docs/stable/indexing.html#indexing-view-versus-copy\n",
      "  after removing the cwd from sys.path.\n",
      "C:\\Users\\18132\\Anaconda3\\lib\\site-packages\\ipykernel_launcher.py:5: SettingWithCopyWarning: \n",
      "A value is trying to be set on a copy of a slice from a DataFrame.\n",
      "Try using .loc[row_indexer,col_indexer] = value instead\n",
      "\n",
      "See the caveats in the documentation: http://pandas.pydata.org/pandas-docs/stable/indexing.html#indexing-view-versus-copy\n",
      "  \"\"\"\n",
      "C:\\Users\\18132\\Anaconda3\\lib\\site-packages\\ipykernel_launcher.py:6: SettingWithCopyWarning: \n",
      "A value is trying to be set on a copy of a slice from a DataFrame.\n",
      "Try using .loc[row_indexer,col_indexer] = value instead\n",
      "\n",
      "See the caveats in the documentation: http://pandas.pydata.org/pandas-docs/stable/indexing.html#indexing-view-versus-copy\n",
      "  \n"
     ]
    }
   ],
   "source": [
    "from sklearn import preprocessing\n",
    "le = preprocessing.LabelEncoder()\n",
    "train_set['year']=le.fit_transform(train_set['year'])\n",
    "test_set['year']=le.transform(test_set['year'])\n",
    "train_set['city']=le.fit_transform(train_set['city'])\n",
    "test_set['city']=le.transform(test_set['city'])"
   ]
  },
  {
   "cell_type": "markdown",
   "metadata": {},
   "source": [
    "_Creating X and y for train and test dataset so that we can use it in our model_"
   ]
  },
  {
   "cell_type": "code",
   "execution_count": 791,
   "metadata": {},
   "outputs": [],
   "source": [
    "X_train=train_set.drop(columns=['total_cases','total_cases_cat'])\n",
    "X_test=test_set.drop(columns=['total_cases','total_cases_cat'])\n",
    "y_train=train_set['total_cases']\n",
    "y_test=test_set['total_cases']"
   ]
  },
  {
   "cell_type": "markdown",
   "metadata": {},
   "source": [
    "_Did the scaling of all the columns of train and test except city and year as they are already done while encoding, train is fit transformed and test is only transformed as it should not learn from train dataset_"
   ]
  },
  {
   "cell_type": "code",
   "execution_count": 792,
   "metadata": {},
   "outputs": [],
   "source": [
    "from sklearn.preprocessing import StandardScaler\n",
    "sc=StandardScaler()\n",
    "X_train.iloc[:,2:22]=sc.fit_transform(X_train.iloc[:,2:22])\n",
    "X_test.iloc[:,2:22]=sc.fit_transform(X_test.iloc[:,2:22])"
   ]
  },
  {
   "cell_type": "markdown",
   "metadata": {},
   "source": [
    "_Converted them to numpy array, in order to use them in the model_"
   ]
  },
  {
   "cell_type": "code",
   "execution_count": 793,
   "metadata": {},
   "outputs": [],
   "source": [
    "X_train_np=X_train.to_numpy()\n",
    "X_test_np=X_test.to_numpy()\n",
    "y_train_np=y_train.to_numpy()\n",
    "y_test_np=y_test.to_numpy()"
   ]
  },
  {
   "cell_type": "markdown",
   "metadata": {},
   "source": [
    "_Ran the Schocatic Gradient descent Regressor and used the default values in order to understand the errors in model_"
   ]
  },
  {
   "cell_type": "code",
   "execution_count": 794,
   "metadata": {},
   "outputs": [
    {
     "data": {
      "text/plain": [
       "SGDRegressor(alpha=0.1, average=False, early_stopping=False, epsilon=0.1,\n",
       "             eta0=0.01, fit_intercept=True, l1_ratio=0.15,\n",
       "             learning_rate='invscaling', loss='squared_loss', max_iter=1000,\n",
       "             n_iter_no_change=5, penalty='l2', power_t=0.25, random_state=None,\n",
       "             shuffle=True, tol=0.001, validation_fraction=0.1, verbose=0,\n",
       "             warm_start=False)"
      ]
     },
     "execution_count": 794,
     "metadata": {},
     "output_type": "execute_result"
    }
   ],
   "source": [
    "from sklearn.linear_model import SGDRegressor\n",
    "from sklearn.metrics import mean_squared_error, r2_score\n",
    "sgd_reg = SGDRegressor(max_iter=1000, alpha=0.1)\n",
    "sgd_reg.fit(X_train_np,y_train_np)"
   ]
  },
  {
   "cell_type": "markdown",
   "metadata": {},
   "source": [
    "_Used the root mean square metrics to find the errors in the model and compare the different model, used RMSE as directly interpretable in terms of measurement units, and so is a better measure of goodness of fit than a correlation coefficient and also as while finding avearge of error they are squared, so we use RMSE, since it has the same units as the quantity plotted on the vertical axis_"
   ]
  },
  {
   "cell_type": "code",
   "execution_count": 795,
   "metadata": {},
   "outputs": [
    {
     "name": "stdout",
     "output_type": "stream",
     "text": [
      "Root Mean squared error train: 12.55\n"
     ]
    }
   ],
   "source": [
    "from math import sqrt\n",
    "y_pred_tr=sgd_reg.predict(X_train_np)\n",
    "print(\"Root Mean squared error train: %.2f\" %sqrt(mean_squared_error (y_train_np, y_pred_tr)))"
   ]
  },
  {
   "cell_type": "code",
   "execution_count": 796,
   "metadata": {},
   "outputs": [
    {
     "name": "stdout",
     "output_type": "stream",
     "text": [
      "Root Mean squared error test: 12.82\n"
     ]
    }
   ],
   "source": [
    "from math import sqrt\n",
    "y_pred=sgd_reg.predict(X_test_np)\n",
    "print(\"Root Mean squared error test: %.2f\" %sqrt(mean_squared_error (y_test_np, y_pred)))"
   ]
  },
  {
   "cell_type": "markdown",
   "metadata": {},
   "source": [
    "_Generated the learning curve by using the function defined below and see if there is much difference between train and test_"
   ]
  },
  {
   "cell_type": "code",
   "execution_count": 753,
   "metadata": {},
   "outputs": [],
   "source": [
    "import numpy as np\n",
    "def plot_learning_curves(model, X_train, y_train):\n",
    "    train_errors,test_errors = [], []\n",
    "    for m in range(1, len(X_train)):\n",
    "        model.fit(X_train[:m], y_train[:m])\n",
    "        y_train_predict = model.predict(X_train[:m])\n",
    "        y_test_predict = model.predict(X_test_np)\n",
    "        train_errors.append(mean_squared_error(y_train[:m], y_train_predict))\n",
    "        test_errors.append(mean_squared_error(y_test_np, y_test_predict))\n",
    "    plt.plot(np.sqrt(train_errors), \"r-+\", linewidth=2, label=\"train\")\n",
    "    plt.plot(np.sqrt(test_errors), \"b-\", linewidth=3, label=\"test\")\n"
   ]
  },
  {
   "cell_type": "code",
   "execution_count": 754,
   "metadata": {},
   "outputs": [
    {
     "data": {
      "image/png": "[encoded data removed]",
      "text/plain": [
       "<Figure size 432x288 with 1 Axes>"
      ]
     },
     "metadata": {
      "needs_background": "light"
     },
     "output_type": "display_data"
    }
   ],
   "source": [
    "plot_learning_curves(sgd_reg,X_train_np,y_train_np)"
   ]
  },
  {
   "cell_type": "markdown",
   "metadata": {},
   "source": [
    "_Used the grid search algorithm in order to find the best estimated parameter for the SGD regressor, where in I took some random values of max_iter i.e. number of steps , it will take to find global maximum and alpha i.e. learning rate, how fast the model will learn_"
   ]
  },
  {
   "cell_type": "code",
   "execution_count": 801,
   "metadata": {},
   "outputs": [
    {
     "data": {
      "text/plain": [
       "GridSearchCV(cv=5, error_score='raise-deprecating',\n",
       "             estimator=SGDRegressor(alpha=0.1, average=False,\n",
       "                                    early_stopping=False, epsilon=0.1,\n",
       "                                    eta0=0.01, fit_intercept=True,\n",
       "                                    l1_ratio=0.15, learning_rate='invscaling',\n",
       "                                    loss='squared_loss', max_iter=1000,\n",
       "                                    n_iter_no_change=5, penalty='l2',\n",
       "                                    power_t=0.25, random_state=None,\n",
       "                                    shuffle=True, tol=0.001,\n",
       "                                    validation_fraction=0.1, verbose=0,\n",
       "                                    warm_start=False),\n",
       "             iid='warn', n_jobs=None,\n",
       "             param_grid=[{'alpha': [1e-05, 0.0001, 0.001, 0.01, 0.1],\n",
       "                          'loss': ['squared_loss', 'huber'],\n",
       "                          'max_iter': [1000, 3000, 5000, 7000]}],\n",
       "             pre_dispatch='2*n_jobs', refit=True, return_train_score=False,\n",
       "             scoring='neg_mean_squared_error', verbose=0)"
      ]
     },
     "execution_count": 801,
     "metadata": {},
     "output_type": "execute_result"
    }
   ],
   "source": [
    "from sklearn.model_selection import GridSearchCV\n",
    "param_grid = [{'alpha':[0.00001,0.0001,0.001,0.01,0.1],'loss': ['squared_loss','huber'],'max_iter': [1000,3000,5000,7000]}]\n",
    "gs = GridSearchCV(sgd_reg,param_grid,cv=5,scoring = 'neg_mean_squared_error')\n",
    "gs.fit(X_train_np,y_train_np)"
   ]
  },
  {
   "cell_type": "markdown",
   "metadata": {},
   "source": [
    "_By using the below code, we can get to know which the best estimator og the grid earch and can use it in  SGD model_"
   ]
  },
  {
   "cell_type": "code",
   "execution_count": 802,
   "metadata": {},
   "outputs": [
    {
     "data": {
      "text/plain": [
       "SGDRegressor(alpha=0.1, average=False, early_stopping=False, epsilon=0.1,\n",
       "             eta0=0.01, fit_intercept=True, l1_ratio=0.15,\n",
       "             learning_rate='invscaling', loss='squared_loss', max_iter=5000,\n",
       "             n_iter_no_change=5, penalty='l2', power_t=0.25, random_state=None,\n",
       "             shuffle=True, tol=0.001, validation_fraction=0.1, verbose=0,\n",
       "             warm_start=False)"
      ]
     },
     "execution_count": 802,
     "metadata": {},
     "output_type": "execute_result"
    }
   ],
   "source": [
    "gs.best_estimator_ "
   ]
  },
  {
   "cell_type": "markdown",
   "metadata": {},
   "source": [
    "_Created one more SGD model by using grid search parameters and check the RMSE of predicted value of Y_"
   ]
  },
  {
   "cell_type": "code",
   "execution_count": 803,
   "metadata": {},
   "outputs": [
    {
     "name": "stdout",
     "output_type": "stream",
     "text": [
      "Root Mean squared error train: 12.11\n",
      "Root Mean squared error test: 12.33\n"
     ]
    }
   ],
   "source": [
    "sgd_reg1 = SGDRegressor(max_iter=5000, alpha=0.1)\n",
    "sgd_reg1.fit(X_train_np,y_train_np)\n",
    "ytr1_pre=sgd_reg1.predict(X_train_np)\n",
    "yte1_pre=sgd_reg1.predict(X_test_np)\n",
    "print(\"Root Mean squared error train: %.2f\" %sqrt(mean_squared_error (y_train_np, ytr1_pre)))\n",
    "print(\"Root Mean squared error test: %.2f\" %sqrt(mean_squared_error (y_test_np, yte1_pre)))"
   ]
  },
  {
   "cell_type": "code",
   "execution_count": 672,
   "metadata": {},
   "outputs": [
    {
     "data": {
      "image/png": "[encoded data removed]",
      "text/plain": [
       "<Figure size 432x288 with 1 Axes>"
      ]
     },
     "metadata": {
      "needs_background": "light"
     },
     "output_type": "display_data"
    }
   ],
   "source": [
    "plot_learning_curves(sgd_reg1, X_train_np, y_train_np)"
   ]
  },
  {
   "cell_type": "markdown",
   "metadata": {},
   "source": [
    "_Used the ramdomised search model, as it is more efficient as compared to grid and dont take all permutation combination, but take out random combination of values, the alpha is taken as some uniquely distributed values and the max_iter is also randomly_taken_"
   ]
  },
  {
   "cell_type": "code",
   "execution_count": 798,
   "metadata": {},
   "outputs": [
    {
     "name": "stderr",
     "output_type": "stream",
     "text": [
      "C:\\Users\\18132\\Anaconda3\\lib\\site-packages\\sklearn\\model_selection\\_split.py:1978: FutureWarning: The default value of cv will change from 3 to 5 in version 0.22. Specify it explicitly to silence this warning.\n",
      "  warnings.warn(CV_WARNING, FutureWarning)\n"
     ]
    },
    {
     "data": {
      "text/plain": [
       "RandomizedSearchCV(cv='warn', error_score='raise-deprecating',\n",
       "                   estimator=SGDRegressor(alpha=0.1, average=False,\n",
       "                                          early_stopping=False, epsilon=0.1,\n",
       "                                          eta0=0.01, fit_intercept=True,\n",
       "                                          l1_ratio=0.15,\n",
       "                                          learning_rate='invscaling',\n",
       "                                          loss='squared_loss', max_iter=1000,\n",
       "                                          n_iter_no_change=5, penalty='l2',\n",
       "                                          power_t=0.25, random_state=None,\n",
       "                                          shuffle=True, tol=0.001,\n",
       "                                          validation_fraction=0.1, verbose=0,\n",
       "                                          warm_start=False),\n",
       "                   iid='warn', n_iter=10, n_jobs=None,\n",
       "                   param_distributions={'alpha': <scipy.stats._distn_infrastructure.rv_frozen object at 0x000002E54E57EB70>,\n",
       "                                        'loss': ['squared_loss', 'huber'],\n",
       "                                        'max_iter': [1000, 3000, 5000, 7000]},\n",
       "                   pre_dispatch='2*n_jobs', random_state=None, refit=True,\n",
       "                   return_train_score=False, scoring=None, verbose=0)"
      ]
     },
     "execution_count": 798,
     "metadata": {},
     "output_type": "execute_result"
    }
   ],
   "source": [
    "from scipy.stats import uniform as sp_rand\n",
    "from sklearn.model_selection import RandomizedSearchCV\n",
    "param_grid = {'alpha': sp_rand(),'loss': ['squared_loss','huber'],'max_iter': [1000,3000,5000,7000]}\n",
    "rsearch = RandomizedSearchCV(sgd_reg, param_distributions=param_grid)\n",
    "rsearch.fit(X_train_np,y_train_np)"
   ]
  },
  {
   "cell_type": "code",
   "execution_count": 799,
   "metadata": {},
   "outputs": [
    {
     "data": {
      "text/plain": [
       "SGDRegressor(alpha=0.3293377380406173, average=False, early_stopping=False,\n",
       "             epsilon=0.1, eta0=0.01, fit_intercept=True, l1_ratio=0.15,\n",
       "             learning_rate='invscaling', loss='squared_loss', max_iter=5000,\n",
       "             n_iter_no_change=5, penalty='l2', power_t=0.25, random_state=None,\n",
       "             shuffle=True, tol=0.001, validation_fraction=0.1, verbose=0,\n",
       "             warm_start=False)"
      ]
     },
     "execution_count": 799,
     "metadata": {},
     "output_type": "execute_result"
    }
   ],
   "source": [
    "rsearch.best_estimator_ "
   ]
  },
  {
   "cell_type": "markdown",
   "metadata": {},
   "source": [
    "_The best estimator of above tuning hyperparameter method is used in SGD model and the RMSE has been calculated_"
   ]
  },
  {
   "cell_type": "code",
   "execution_count": 800,
   "metadata": {},
   "outputs": [
    {
     "name": "stdout",
     "output_type": "stream",
     "text": [
      "Root Mean squared error train: 12.16\n",
      "Root Mean squared error test: 12.36\n"
     ]
    }
   ],
   "source": [
    "sgd_reg2=SGDRegressor(max_iter=5000,alpha=0.3293377380406173)\n",
    "sgd_reg2.fit(X_train_np,y_train_np)\n",
    "ytr2_pre=sgd_reg2.predict(X_train_np)\n",
    "yte2_pre=sgd_reg2.predict(X_test_np)\n",
    "print(\"Root Mean squared error train: %.2f\" %sqrt(mean_squared_error (y_train_np, ytr2_pre)))\n",
    "print(\"Root Mean squared error test: %.2f\" %sqrt(mean_squared_error (y_test_np, yte2_pre)))"
   ]
  },
  {
   "cell_type": "code",
   "execution_count": 761,
   "metadata": {},
   "outputs": [
    {
     "data": {
      "image/png": "[encoded data removed]",
      "text/plain": [
       "<Figure size 432x288 with 1 Axes>"
      ]
     },
     "metadata": {
      "needs_background": "light"
     },
     "output_type": "display_data"
    }
   ],
   "source": [
    "plot_learning_curves(sgd_reg2, X_train_np, y_train_np)"
   ]
  },
  {
   "cell_type": "markdown",
   "metadata": {},
   "source": [
    "_The model created after tuning the hyper parameter using gridsearch is the best model as it has the lowest root mean squared error for train and test as 12.11 and 12.33 respectively.\n",
    "So will convert the predicted value of y-train and test of the second model i.e. sgd_reg1_"
   ]
  },
  {
   "cell_type": "code",
   "execution_count": 804,
   "metadata": {},
   "outputs": [
    {
     "data": {
      "text/html": [
       "<div>\n",
       "<style scoped>\n",
       "    .dataframe tbody tr th:only-of-type {\n",
       "        vertical-align: middle;\n",
       "    }\n",
       "\n",
       "    .dataframe tbody tr th {\n",
       "        vertical-align: top;\n",
       "    }\n",
       "\n",
       "    .dataframe thead th {\n",
       "        text-align: right;\n",
       "    }\n",
       "</style>\n",
       "<table border=\"1\" class=\"dataframe\">\n",
       "  <thead>\n",
       "    <tr style=\"text-align: right;\">\n",
       "      <th></th>\n",
       "      <th>Model</th>\n",
       "      <th>RMSE_train</th>\n",
       "      <th>RMSE_test</th>\n",
       "    </tr>\n",
       "  </thead>\n",
       "  <tbody>\n",
       "    <tr>\n",
       "      <th>0</th>\n",
       "      <td>SGDRegressor(alpha=0.1, average=False, early_s...</td>\n",
       "      <td>12.5538</td>\n",
       "      <td>12.8227</td>\n",
       "    </tr>\n",
       "    <tr>\n",
       "      <th>1</th>\n",
       "      <td>SGDRegressor(alpha=0.1, average=False, early_s...</td>\n",
       "      <td>12.1143</td>\n",
       "      <td>12.3318</td>\n",
       "    </tr>\n",
       "    <tr>\n",
       "      <th>2</th>\n",
       "      <td>SGDRegressor(alpha=0.3293377380406173, average...</td>\n",
       "      <td>12.1592</td>\n",
       "      <td>12.3645</td>\n",
       "    </tr>\n",
       "  </tbody>\n",
       "</table>\n",
       "</div>"
      ],
      "text/plain": [
       "                                               Model RMSE_train RMSE_test\n",
       "0  SGDRegressor(alpha=0.1, average=False, early_s...    12.5538   12.8227\n",
       "1  SGDRegressor(alpha=0.1, average=False, early_s...    12.1143   12.3318\n",
       "2  SGDRegressor(alpha=0.3293377380406173, average...    12.1592   12.3645"
      ]
     },
     "execution_count": 804,
     "metadata": {},
     "output_type": "execute_result"
    }
   ],
   "source": [
    "df3 = pd.DataFrame(np.array([[sgd_reg,sqrt(mean_squared_error (y_train_np, y_pred_tr)) ,sqrt(mean_squared_error (y_test_np, y_pred)) ], [sgd_reg1, sqrt(mean_squared_error (y_train_np, ytr1_pre)),sqrt(mean_squared_error (y_test_np, yte1_pre)) ], [sgd_reg2, sqrt(mean_squared_error (y_train_np, ytr2_pre)),sqrt(mean_squared_error (y_test_np, yte2_pre)) ]]),\n",
    "                   columns=['Model', 'RMSE_train', 'RMSE_test'])\n",
    "df3.head()"
   ]
  },
  {
   "cell_type": "code",
   "execution_count": 629,
   "metadata": {},
   "outputs": [
    {
     "data": {
      "text/html": [
       "<div>\n",
       "<style scoped>\n",
       "    .dataframe tbody tr th:only-of-type {\n",
       "        vertical-align: middle;\n",
       "    }\n",
       "\n",
       "    .dataframe tbody tr th {\n",
       "        vertical-align: top;\n",
       "    }\n",
       "\n",
       "    .dataframe thead th {\n",
       "        text-align: right;\n",
       "    }\n",
       "</style>\n",
       "<table border=\"1\" class=\"dataframe\">\n",
       "  <thead>\n",
       "    <tr style=\"text-align: right;\">\n",
       "      <th></th>\n",
       "      <th>city</th>\n",
       "      <th>year</th>\n",
       "      <th>ndvi_ne</th>\n",
       "      <th>ndvi_nw</th>\n",
       "      <th>ndvi_se</th>\n",
       "      <th>ndvi_sw</th>\n",
       "      <th>prec_amt_mm</th>\n",
       "      <th>re_an_air_temp_k</th>\n",
       "      <th>re_an_avg_temp_k</th>\n",
       "      <th>re_an_dew_point_temp_k</th>\n",
       "      <th>...</th>\n",
       "      <th>re_an_sat_precip_amt_mm</th>\n",
       "      <th>re_an_specific_hd_g_per_kg</th>\n",
       "      <th>re_an_tdtr_k</th>\n",
       "      <th>stn_avg_temp_c</th>\n",
       "      <th>stn_diur_temp_rng_c</th>\n",
       "      <th>stn_max_temp_c</th>\n",
       "      <th>stn_min_temp_c</th>\n",
       "      <th>stn_precip_mm</th>\n",
       "      <th>total_cases</th>\n",
       "      <th>Predicted_total_cases</th>\n",
       "    </tr>\n",
       "  </thead>\n",
       "  <tbody>\n",
       "    <tr>\n",
       "      <th>1076</th>\n",
       "      <td>0</td>\n",
       "      <td>13</td>\n",
       "      <td>0.455200</td>\n",
       "      <td>0.484823</td>\n",
       "      <td>-0.597872</td>\n",
       "      <td>-0.458901</td>\n",
       "      <td>0.047291</td>\n",
       "      <td>-1.436523</td>\n",
       "      <td>-1.217106</td>\n",
       "      <td>0.482017</td>\n",
       "      <td>...</td>\n",
       "      <td>0.047291</td>\n",
       "      <td>0.522191</td>\n",
       "      <td>0.318961</td>\n",
       "      <td>-0.357394</td>\n",
       "      <td>-0.332223</td>\n",
       "      <td>-0.234669</td>\n",
       "      <td>0.049233</td>\n",
       "      <td>1.121755</td>\n",
       "      <td>4</td>\n",
       "      <td>10.203092</td>\n",
       "    </tr>\n",
       "    <tr>\n",
       "      <th>571</th>\n",
       "      <td>1</td>\n",
       "      <td>11</td>\n",
       "      <td>-0.460530</td>\n",
       "      <td>-0.609928</td>\n",
       "      <td>-1.090036</td>\n",
       "      <td>-1.057068</td>\n",
       "      <td>-0.239113</td>\n",
       "      <td>0.109060</td>\n",
       "      <td>-0.263491</td>\n",
       "      <td>-0.613970</td>\n",
       "      <td>...</td>\n",
       "      <td>-0.239113</td>\n",
       "      <td>-0.705405</td>\n",
       "      <td>-0.542192</td>\n",
       "      <td>0.037570</td>\n",
       "      <td>-0.205636</td>\n",
       "      <td>0.421692</td>\n",
       "      <td>0.504610</td>\n",
       "      <td>-0.405704</td>\n",
       "      <td>6</td>\n",
       "      <td>15.774659</td>\n",
       "    </tr>\n",
       "    <tr>\n",
       "      <th>459</th>\n",
       "      <td>1</td>\n",
       "      <td>9</td>\n",
       "      <td>-0.055579</td>\n",
       "      <td>-0.381813</td>\n",
       "      <td>-1.079941</td>\n",
       "      <td>-0.828033</td>\n",
       "      <td>-0.514088</td>\n",
       "      <td>-1.989735</td>\n",
       "      <td>-2.426153</td>\n",
       "      <td>-3.021934</td>\n",
       "      <td>...</td>\n",
       "      <td>-0.514088</td>\n",
       "      <td>-2.747678</td>\n",
       "      <td>-0.656749</td>\n",
       "      <td>-2.456345</td>\n",
       "      <td>-0.612046</td>\n",
       "      <td>-1.799837</td>\n",
       "      <td>-2.032489</td>\n",
       "      <td>-0.810146</td>\n",
       "      <td>37</td>\n",
       "      <td>10.824132</td>\n",
       "    </tr>\n",
       "    <tr>\n",
       "      <th>1336</th>\n",
       "      <td>0</td>\n",
       "      <td>18</td>\n",
       "      <td>-0.054190</td>\n",
       "      <td>0.340819</td>\n",
       "      <td>-1.045188</td>\n",
       "      <td>-0.612721</td>\n",
       "      <td>1.168650</td>\n",
       "      <td>-0.438822</td>\n",
       "      <td>0.338194</td>\n",
       "      <td>0.454665</td>\n",
       "      <td>...</td>\n",
       "      <td>1.168650</td>\n",
       "      <td>0.515681</td>\n",
       "      <td>1.085308</td>\n",
       "      <td>-0.712862</td>\n",
       "      <td>-0.192311</td>\n",
       "      <td>0.371203</td>\n",
       "      <td>0.114287</td>\n",
       "      <td>0.454228</td>\n",
       "      <td>9</td>\n",
       "      <td>8.454813</td>\n",
       "    </tr>\n",
       "    <tr>\n",
       "      <th>310</th>\n",
       "      <td>1</td>\n",
       "      <td>6</td>\n",
       "      <td>-0.344384</td>\n",
       "      <td>-0.079737</td>\n",
       "      <td>0.180464</td>\n",
       "      <td>0.302402</td>\n",
       "      <td>0.005077</td>\n",
       "      <td>-0.561403</td>\n",
       "      <td>-0.853824</td>\n",
       "      <td>-0.931825</td>\n",
       "      <td>...</td>\n",
       "      <td>0.005077</td>\n",
       "      <td>-0.994634</td>\n",
       "      <td>-0.771306</td>\n",
       "      <td>-0.808781</td>\n",
       "      <td>-0.691996</td>\n",
       "      <td>-0.133690</td>\n",
       "      <td>-0.601305</td>\n",
       "      <td>-0.635411</td>\n",
       "      <td>11</td>\n",
       "      <td>17.030644</td>\n",
       "    </tr>\n",
       "  </tbody>\n",
       "</table>\n",
       "<p>5 rows × 24 columns</p>\n",
       "</div>"
      ],
      "text/plain": [
       "      city  year   ndvi_ne   ndvi_nw   ndvi_se   ndvi_sw  prec_amt_mm  \\\n",
       "1076     0    13  0.455200  0.484823 -0.597872 -0.458901     0.047291   \n",
       "571      1    11 -0.460530 -0.609928 -1.090036 -1.057068    -0.239113   \n",
       "459      1     9 -0.055579 -0.381813 -1.079941 -0.828033    -0.514088   \n",
       "1336     0    18 -0.054190  0.340819 -1.045188 -0.612721     1.168650   \n",
       "310      1     6 -0.344384 -0.079737  0.180464  0.302402     0.005077   \n",
       "\n",
       "      re_an_air_temp_k  re_an_avg_temp_k  re_an_dew_point_temp_k  ...  \\\n",
       "1076         -1.436523         -1.217106                0.482017  ...   \n",
       "571           0.109060         -0.263491               -0.613970  ...   \n",
       "459          -1.989735         -2.426153               -3.021934  ...   \n",
       "1336         -0.438822          0.338194                0.454665  ...   \n",
       "310          -0.561403         -0.853824               -0.931825  ...   \n",
       "\n",
       "      re_an_sat_precip_amt_mm  re_an_specific_hd_g_per_kg  re_an_tdtr_k  \\\n",
       "1076                 0.047291                    0.522191      0.318961   \n",
       "571                 -0.239113                   -0.705405     -0.542192   \n",
       "459                 -0.514088                   -2.747678     -0.656749   \n",
       "1336                 1.168650                    0.515681      1.085308   \n",
       "310                  0.005077                   -0.994634     -0.771306   \n",
       "\n",
       "      stn_avg_temp_c  stn_diur_temp_rng_c  stn_max_temp_c  stn_min_temp_c  \\\n",
       "1076       -0.357394            -0.332223       -0.234669        0.049233   \n",
       "571         0.037570            -0.205636        0.421692        0.504610   \n",
       "459        -2.456345            -0.612046       -1.799837       -2.032489   \n",
       "1336       -0.712862            -0.192311        0.371203        0.114287   \n",
       "310        -0.808781            -0.691996       -0.133690       -0.601305   \n",
       "\n",
       "      stn_precip_mm  total_cases  Predicted_total_cases  \n",
       "1076       1.121755            4              10.203092  \n",
       "571       -0.405704            6              15.774659  \n",
       "459       -0.810146           37              10.824132  \n",
       "1336       0.454228            9               8.454813  \n",
       "310       -0.635411           11              17.030644  \n",
       "\n",
       "[5 rows x 24 columns]"
      ]
     },
     "execution_count": 629,
     "metadata": {},
     "output_type": "execute_result"
    }
   ],
   "source": [
    "y_train=y_train.to_frame()\n",
    "Predicted_train_y=pd.DataFrame(ytr1_pre,index=y_train.index,columns=y_train.columns)\n",
    "Predicted_train_y=Predicted_train_y.rename(columns={'total_cases':'Predicted_total_cases'})\n",
    "act_pre_tra_y=pd.concat([y_train,Predicted_train_y],axis=1)\n",
    "total_train_data=pd.concat([X_train,act_pre_tra_y],axis=1)\n",
    "total_train_data.head()"
   ]
  },
  {
   "cell_type": "code",
   "execution_count": 630,
   "metadata": {
    "scrolled": true
   },
   "outputs": [
    {
     "data": {
      "text/html": [
       "<div>\n",
       "<style scoped>\n",
       "    .dataframe tbody tr th:only-of-type {\n",
       "        vertical-align: middle;\n",
       "    }\n",
       "\n",
       "    .dataframe tbody tr th {\n",
       "        vertical-align: top;\n",
       "    }\n",
       "\n",
       "    .dataframe thead th {\n",
       "        text-align: right;\n",
       "    }\n",
       "</style>\n",
       "<table border=\"1\" class=\"dataframe\">\n",
       "  <thead>\n",
       "    <tr style=\"text-align: right;\">\n",
       "      <th></th>\n",
       "      <th>city</th>\n",
       "      <th>year</th>\n",
       "      <th>ndvi_ne</th>\n",
       "      <th>ndvi_nw</th>\n",
       "      <th>ndvi_se</th>\n",
       "      <th>ndvi_sw</th>\n",
       "      <th>prec_amt_mm</th>\n",
       "      <th>re_an_air_temp_k</th>\n",
       "      <th>re_an_avg_temp_k</th>\n",
       "      <th>re_an_dew_point_temp_k</th>\n",
       "      <th>...</th>\n",
       "      <th>re_an_sat_precip_amt_mm</th>\n",
       "      <th>re_an_specific_hd_g_per_kg</th>\n",
       "      <th>re_an_tdtr_k</th>\n",
       "      <th>stn_avg_temp_c</th>\n",
       "      <th>stn_diur_temp_rng_c</th>\n",
       "      <th>stn_max_temp_c</th>\n",
       "      <th>stn_min_temp_c</th>\n",
       "      <th>stn_precip_mm</th>\n",
       "      <th>total_cases</th>\n",
       "      <th>Predicted_total_cases</th>\n",
       "    </tr>\n",
       "  </thead>\n",
       "  <tbody>\n",
       "    <tr>\n",
       "      <th>1081</th>\n",
       "      <td>0</td>\n",
       "      <td>13</td>\n",
       "      <td>0.842738</td>\n",
       "      <td>0.653882</td>\n",
       "      <td>-0.188925</td>\n",
       "      <td>0.549067</td>\n",
       "      <td>0.126507</td>\n",
       "      <td>-1.367706</td>\n",
       "      <td>-1.274399</td>\n",
       "      <td>0.561542</td>\n",
       "      <td>...</td>\n",
       "      <td>0.126507</td>\n",
       "      <td>0.582278</td>\n",
       "      <td>-0.116753</td>\n",
       "      <td>0.491842</td>\n",
       "      <td>0.142544</td>\n",
       "      <td>0.863772</td>\n",
       "      <td>0.343895</td>\n",
       "      <td>0.350566</td>\n",
       "      <td>0</td>\n",
       "      <td>7.601336</td>\n",
       "    </tr>\n",
       "    <tr>\n",
       "      <th>320</th>\n",
       "      <td>1</td>\n",
       "      <td>6</td>\n",
       "      <td>0.158800</td>\n",
       "      <td>-0.114959</td>\n",
       "      <td>-0.361028</td>\n",
       "      <td>-0.489694</td>\n",
       "      <td>-0.640033</td>\n",
       "      <td>0.801057</td>\n",
       "      <td>0.454496</td>\n",
       "      <td>0.594434</td>\n",
       "      <td>...</td>\n",
       "      <td>-0.640033</td>\n",
       "      <td>0.542349</td>\n",
       "      <td>-0.813887</td>\n",
       "      <td>0.466125</td>\n",
       "      <td>-0.990126</td>\n",
       "      <td>0.190408</td>\n",
       "      <td>0.920975</td>\n",
       "      <td>-0.425177</td>\n",
       "      <td>6</td>\n",
       "      <td>23.251816</td>\n",
       "    </tr>\n",
       "    <tr>\n",
       "      <th>818</th>\n",
       "      <td>1</td>\n",
       "      <td>16</td>\n",
       "      <td>-2.270831</td>\n",
       "      <td>-1.942016</td>\n",
       "      <td>-1.425800</td>\n",
       "      <td>-1.277881</td>\n",
       "      <td>0.633971</td>\n",
       "      <td>-0.128107</td>\n",
       "      <td>-0.477752</td>\n",
       "      <td>-0.391447</td>\n",
       "      <td>...</td>\n",
       "      <td>0.633971</td>\n",
       "      <td>-0.474975</td>\n",
       "      <td>-0.762394</td>\n",
       "      <td>-1.762724</td>\n",
       "      <td>-0.799868</td>\n",
       "      <td>-0.867735</td>\n",
       "      <td>-0.810266</td>\n",
       "      <td>1.711380</td>\n",
       "      <td>19</td>\n",
       "      <td>17.839184</td>\n",
       "    </tr>\n",
       "    <tr>\n",
       "      <th>778</th>\n",
       "      <td>1</td>\n",
       "      <td>15</td>\n",
       "      <td>-1.793166</td>\n",
       "      <td>-2.034533</td>\n",
       "      <td>-0.783590</td>\n",
       "      <td>-1.051296</td>\n",
       "      <td>-0.254037</td>\n",
       "      <td>0.462790</td>\n",
       "      <td>0.194596</td>\n",
       "      <td>-0.070322</td>\n",
       "      <td>...</td>\n",
       "      <td>-0.254037</td>\n",
       "      <td>-0.158146</td>\n",
       "      <td>-0.497008</td>\n",
       "      <td>0.251812</td>\n",
       "      <td>-0.000784</td>\n",
       "      <td>0.190408</td>\n",
       "      <td>0.600375</td>\n",
       "      <td>-0.378162</td>\n",
       "      <td>1</td>\n",
       "      <td>15.114645</td>\n",
       "    </tr>\n",
       "    <tr>\n",
       "      <th>1062</th>\n",
       "      <td>0</td>\n",
       "      <td>12</td>\n",
       "      <td>1.072149</td>\n",
       "      <td>0.925859</td>\n",
       "      <td>1.635578</td>\n",
       "      <td>1.526885</td>\n",
       "      <td>0.094885</td>\n",
       "      <td>-0.185912</td>\n",
       "      <td>0.414946</td>\n",
       "      <td>0.861894</td>\n",
       "      <td>...</td>\n",
       "      <td>0.094885</td>\n",
       "      <td>0.929488</td>\n",
       "      <td>0.782392</td>\n",
       "      <td>1.076915</td>\n",
       "      <td>0.706342</td>\n",
       "      <td>0.623285</td>\n",
       "      <td>0.664495</td>\n",
       "      <td>0.272208</td>\n",
       "      <td>38</td>\n",
       "      <td>10.431995</td>\n",
       "    </tr>\n",
       "  </tbody>\n",
       "</table>\n",
       "<p>5 rows × 24 columns</p>\n",
       "</div>"
      ],
      "text/plain": [
       "      city  year   ndvi_ne   ndvi_nw   ndvi_se   ndvi_sw  prec_amt_mm  \\\n",
       "1081     0    13  0.842738  0.653882 -0.188925  0.549067     0.126507   \n",
       "320      1     6  0.158800 -0.114959 -0.361028 -0.489694    -0.640033   \n",
       "818      1    16 -2.270831 -1.942016 -1.425800 -1.277881     0.633971   \n",
       "778      1    15 -1.793166 -2.034533 -0.783590 -1.051296    -0.254037   \n",
       "1062     0    12  1.072149  0.925859  1.635578  1.526885     0.094885   \n",
       "\n",
       "      re_an_air_temp_k  re_an_avg_temp_k  re_an_dew_point_temp_k  ...  \\\n",
       "1081         -1.367706         -1.274399                0.561542  ...   \n",
       "320           0.801057          0.454496                0.594434  ...   \n",
       "818          -0.128107         -0.477752               -0.391447  ...   \n",
       "778           0.462790          0.194596               -0.070322  ...   \n",
       "1062         -0.185912          0.414946                0.861894  ...   \n",
       "\n",
       "      re_an_sat_precip_amt_mm  re_an_specific_hd_g_per_kg  re_an_tdtr_k  \\\n",
       "1081                 0.126507                    0.582278     -0.116753   \n",
       "320                 -0.640033                    0.542349     -0.813887   \n",
       "818                  0.633971                   -0.474975     -0.762394   \n",
       "778                 -0.254037                   -0.158146     -0.497008   \n",
       "1062                 0.094885                    0.929488      0.782392   \n",
       "\n",
       "      stn_avg_temp_c  stn_diur_temp_rng_c  stn_max_temp_c  stn_min_temp_c  \\\n",
       "1081        0.491842             0.142544        0.863772        0.343895   \n",
       "320         0.466125            -0.990126        0.190408        0.920975   \n",
       "818        -1.762724            -0.799868       -0.867735       -0.810266   \n",
       "778         0.251812            -0.000784        0.190408        0.600375   \n",
       "1062        1.076915             0.706342        0.623285        0.664495   \n",
       "\n",
       "      stn_precip_mm  total_cases  Predicted_total_cases  \n",
       "1081       0.350566            0               7.601336  \n",
       "320       -0.425177            6              23.251816  \n",
       "818        1.711380           19              17.839184  \n",
       "778       -0.378162            1              15.114645  \n",
       "1062       0.272208           38              10.431995  \n",
       "\n",
       "[5 rows x 24 columns]"
      ]
     },
     "execution_count": 630,
     "metadata": {},
     "output_type": "execute_result"
    }
   ],
   "source": [
    "y_test=y_test.to_frame()\n",
    "Predicted_test_y=pd.DataFrame(yte1_pre,index=y_test.index,columns=y_test.columns)\n",
    "Predicted_test_y=Predicted_test_y.rename(columns={'total_cases':'Predicted_total_cases'})\n",
    "act_pre_tes_y=pd.concat([y_test,Predicted_test_y],axis=1)\n",
    "total_test_data=pd.concat([X_test,act_pre_tes_y],axis=1)\n",
    "total_test_data.head()"
   ]
  },
  {
   "cell_type": "code",
   "execution_count": 831,
   "metadata": {},
   "outputs": [
    {
     "data": {
      "text/plain": [
       "(416, 24)"
      ]
     },
     "execution_count": 831,
     "metadata": {},
     "output_type": "execute_result"
    }
   ],
   "source": [
    "df3=pd.read_csv(\"dengue_features_test.csv\")\n",
    "df3.shape"
   ]
  },
  {
   "cell_type": "code",
   "execution_count": 832,
   "metadata": {
    "scrolled": true
   },
   "outputs": [],
   "source": [
    "df3=df3.fillna(method='ffill')"
   ]
  },
  {
   "cell_type": "code",
   "execution_count": 834,
   "metadata": {},
   "outputs": [
    {
     "data": {
      "text/html": [
       "<div>\n",
       "<style scoped>\n",
       "    .dataframe tbody tr th:only-of-type {\n",
       "        vertical-align: middle;\n",
       "    }\n",
       "\n",
       "    .dataframe tbody tr th {\n",
       "        vertical-align: top;\n",
       "    }\n",
       "\n",
       "    .dataframe thead th {\n",
       "        text-align: right;\n",
       "    }\n",
       "</style>\n",
       "<table border=\"1\" class=\"dataframe\">\n",
       "  <thead>\n",
       "    <tr style=\"text-align: right;\">\n",
       "      <th></th>\n",
       "      <th>city</th>\n",
       "      <th>year</th>\n",
       "      <th>ndvi_ne</th>\n",
       "      <th>ndvi_nw</th>\n",
       "      <th>ndvi_se</th>\n",
       "      <th>ndvi_sw</th>\n",
       "      <th>precipitation_amt_mm</th>\n",
       "      <th>reanalysis_air_temp_k</th>\n",
       "      <th>reanalysis_avg_temp_k</th>\n",
       "      <th>reanalysis_dew_point_temp_k</th>\n",
       "      <th>...</th>\n",
       "      <th>reanalysis_precip_amt_kg_per_m2</th>\n",
       "      <th>reanalysis_relative_humidity_percent</th>\n",
       "      <th>reanalysis_sat_precip_amt_mm</th>\n",
       "      <th>reanalysis_specific_humidity_g_per_kg</th>\n",
       "      <th>reanalysis_tdtr_k</th>\n",
       "      <th>station_avg_temp_c</th>\n",
       "      <th>station_diur_temp_rng_c</th>\n",
       "      <th>station_max_temp_c</th>\n",
       "      <th>station_min_temp_c</th>\n",
       "      <th>station_precip_mm</th>\n",
       "    </tr>\n",
       "  </thead>\n",
       "  <tbody>\n",
       "    <tr>\n",
       "      <th>0</th>\n",
       "      <td>1</td>\n",
       "      <td>0</td>\n",
       "      <td>-0.0189</td>\n",
       "      <td>-0.018900</td>\n",
       "      <td>0.102729</td>\n",
       "      <td>0.091200</td>\n",
       "      <td>78.60</td>\n",
       "      <td>298.492857</td>\n",
       "      <td>298.550000</td>\n",
       "      <td>294.527143</td>\n",
       "      <td>...</td>\n",
       "      <td>25.37</td>\n",
       "      <td>78.781429</td>\n",
       "      <td>78.60</td>\n",
       "      <td>15.918571</td>\n",
       "      <td>3.128571</td>\n",
       "      <td>26.528571</td>\n",
       "      <td>7.057143</td>\n",
       "      <td>33.3</td>\n",
       "      <td>21.7</td>\n",
       "      <td>75.2</td>\n",
       "    </tr>\n",
       "    <tr>\n",
       "      <th>1</th>\n",
       "      <td>1</td>\n",
       "      <td>0</td>\n",
       "      <td>-0.0180</td>\n",
       "      <td>-0.012400</td>\n",
       "      <td>0.082043</td>\n",
       "      <td>0.072314</td>\n",
       "      <td>12.56</td>\n",
       "      <td>298.475714</td>\n",
       "      <td>298.557143</td>\n",
       "      <td>294.395714</td>\n",
       "      <td>...</td>\n",
       "      <td>21.83</td>\n",
       "      <td>78.230000</td>\n",
       "      <td>12.56</td>\n",
       "      <td>15.791429</td>\n",
       "      <td>2.571429</td>\n",
       "      <td>26.071429</td>\n",
       "      <td>5.557143</td>\n",
       "      <td>30.0</td>\n",
       "      <td>22.2</td>\n",
       "      <td>34.3</td>\n",
       "    </tr>\n",
       "    <tr>\n",
       "      <th>2</th>\n",
       "      <td>1</td>\n",
       "      <td>0</td>\n",
       "      <td>-0.0015</td>\n",
       "      <td>-0.012400</td>\n",
       "      <td>0.151083</td>\n",
       "      <td>0.091529</td>\n",
       "      <td>3.66</td>\n",
       "      <td>299.455714</td>\n",
       "      <td>299.357143</td>\n",
       "      <td>295.308571</td>\n",
       "      <td>...</td>\n",
       "      <td>4.12</td>\n",
       "      <td>78.270000</td>\n",
       "      <td>3.66</td>\n",
       "      <td>16.674286</td>\n",
       "      <td>4.428571</td>\n",
       "      <td>27.928571</td>\n",
       "      <td>7.785714</td>\n",
       "      <td>32.8</td>\n",
       "      <td>22.8</td>\n",
       "      <td>3.0</td>\n",
       "    </tr>\n",
       "    <tr>\n",
       "      <th>3</th>\n",
       "      <td>1</td>\n",
       "      <td>0</td>\n",
       "      <td>-0.0015</td>\n",
       "      <td>-0.019867</td>\n",
       "      <td>0.124329</td>\n",
       "      <td>0.125686</td>\n",
       "      <td>0.00</td>\n",
       "      <td>299.690000</td>\n",
       "      <td>299.728571</td>\n",
       "      <td>294.402857</td>\n",
       "      <td>...</td>\n",
       "      <td>2.20</td>\n",
       "      <td>73.015714</td>\n",
       "      <td>0.00</td>\n",
       "      <td>15.775714</td>\n",
       "      <td>4.342857</td>\n",
       "      <td>28.057143</td>\n",
       "      <td>6.271429</td>\n",
       "      <td>33.3</td>\n",
       "      <td>24.4</td>\n",
       "      <td>0.3</td>\n",
       "    </tr>\n",
       "    <tr>\n",
       "      <th>4</th>\n",
       "      <td>1</td>\n",
       "      <td>0</td>\n",
       "      <td>0.0568</td>\n",
       "      <td>0.039833</td>\n",
       "      <td>0.062267</td>\n",
       "      <td>0.075914</td>\n",
       "      <td>0.76</td>\n",
       "      <td>299.780000</td>\n",
       "      <td>299.671429</td>\n",
       "      <td>294.760000</td>\n",
       "      <td>...</td>\n",
       "      <td>4.36</td>\n",
       "      <td>74.084286</td>\n",
       "      <td>0.76</td>\n",
       "      <td>16.137143</td>\n",
       "      <td>3.542857</td>\n",
       "      <td>27.614286</td>\n",
       "      <td>7.085714</td>\n",
       "      <td>33.3</td>\n",
       "      <td>23.3</td>\n",
       "      <td>84.1</td>\n",
       "    </tr>\n",
       "  </tbody>\n",
       "</table>\n",
       "<p>5 rows × 22 columns</p>\n",
       "</div>"
      ],
      "text/plain": [
       "   city  year  ndvi_ne   ndvi_nw   ndvi_se   ndvi_sw  precipitation_amt_mm  \\\n",
       "0     1     0  -0.0189 -0.018900  0.102729  0.091200                 78.60   \n",
       "1     1     0  -0.0180 -0.012400  0.082043  0.072314                 12.56   \n",
       "2     1     0  -0.0015 -0.012400  0.151083  0.091529                  3.66   \n",
       "3     1     0  -0.0015 -0.019867  0.124329  0.125686                  0.00   \n",
       "4     1     0   0.0568  0.039833  0.062267  0.075914                  0.76   \n",
       "\n",
       "   reanalysis_air_temp_k  reanalysis_avg_temp_k  reanalysis_dew_point_temp_k  \\\n",
       "0             298.492857             298.550000                   294.527143   \n",
       "1             298.475714             298.557143                   294.395714   \n",
       "2             299.455714             299.357143                   295.308571   \n",
       "3             299.690000             299.728571                   294.402857   \n",
       "4             299.780000             299.671429                   294.760000   \n",
       "\n",
       "   ...  reanalysis_precip_amt_kg_per_m2  reanalysis_relative_humidity_percent  \\\n",
       "0  ...                            25.37                             78.781429   \n",
       "1  ...                            21.83                             78.230000   \n",
       "2  ...                             4.12                             78.270000   \n",
       "3  ...                             2.20                             73.015714   \n",
       "4  ...                             4.36                             74.084286   \n",
       "\n",
       "   reanalysis_sat_precip_amt_mm  reanalysis_specific_humidity_g_per_kg  \\\n",
       "0                         78.60                              15.918571   \n",
       "1                         12.56                              15.791429   \n",
       "2                          3.66                              16.674286   \n",
       "3                          0.00                              15.775714   \n",
       "4                          0.76                              16.137143   \n",
       "\n",
       "   reanalysis_tdtr_k  station_avg_temp_c  station_diur_temp_rng_c  \\\n",
       "0           3.128571           26.528571                 7.057143   \n",
       "1           2.571429           26.071429                 5.557143   \n",
       "2           4.428571           27.928571                 7.785714   \n",
       "3           4.342857           28.057143                 6.271429   \n",
       "4           3.542857           27.614286                 7.085714   \n",
       "\n",
       "   station_max_temp_c  station_min_temp_c  station_precip_mm  \n",
       "0                33.3                21.7               75.2  \n",
       "1                30.0                22.2               34.3  \n",
       "2                32.8                22.8                3.0  \n",
       "3                33.3                24.4                0.3  \n",
       "4                33.3                23.3               84.1  \n",
       "\n",
       "[5 rows x 22 columns]"
      ]
     },
     "execution_count": 834,
     "metadata": {},
     "output_type": "execute_result"
    }
   ],
   "source": [
    "#df_test=df3.drop(columns=['week_start_date','weekofyear'])\n",
    "df_test['year']=le.fit_transform(df_test['year'])\n",
    "df_test['city']=le.fit_transform(df_test['city'])\n",
    "df_test.head()"
   ]
  },
  {
   "cell_type": "code",
   "execution_count": 835,
   "metadata": {},
   "outputs": [
    {
     "data": {
      "text/plain": [
       "(416, 22)"
      ]
     },
     "execution_count": 835,
     "metadata": {},
     "output_type": "execute_result"
    }
   ],
   "source": [
    "df_test.shape"
   ]
  },
  {
   "cell_type": "code",
   "execution_count": 836,
   "metadata": {},
   "outputs": [],
   "source": [
    "df_test.iloc[:,2:22]=sc.fit_transform(df_test.iloc[:,2:22])\n",
    "df_test_np=df_test.to_numpy()\n",
    "dengue_feature_predict=sgd_reg1.predict(df_test_np)"
   ]
  },
  {
   "cell_type": "code",
   "execution_count": 838,
   "metadata": {},
   "outputs": [
    {
     "data": {
      "text/html": [
       "<div>\n",
       "<style scoped>\n",
       "    .dataframe tbody tr th:only-of-type {\n",
       "        vertical-align: middle;\n",
       "    }\n",
       "\n",
       "    .dataframe tbody tr th {\n",
       "        vertical-align: top;\n",
       "    }\n",
       "\n",
       "    .dataframe thead th {\n",
       "        text-align: right;\n",
       "    }\n",
       "</style>\n",
       "<table border=\"1\" class=\"dataframe\">\n",
       "  <thead>\n",
       "    <tr style=\"text-align: right;\">\n",
       "      <th></th>\n",
       "      <th>city</th>\n",
       "      <th>year</th>\n",
       "      <th>ndvi_ne</th>\n",
       "      <th>ndvi_nw</th>\n",
       "      <th>ndvi_se</th>\n",
       "      <th>ndvi_sw</th>\n",
       "      <th>precipitation_amt_mm</th>\n",
       "      <th>reanalysis_air_temp_k</th>\n",
       "      <th>reanalysis_avg_temp_k</th>\n",
       "      <th>reanalysis_dew_point_temp_k</th>\n",
       "      <th>...</th>\n",
       "      <th>reanalysis_relative_humidity_percent</th>\n",
       "      <th>reanalysis_sat_precip_amt_mm</th>\n",
       "      <th>reanalysis_specific_humidity_g_per_kg</th>\n",
       "      <th>reanalysis_tdtr_k</th>\n",
       "      <th>station_avg_temp_c</th>\n",
       "      <th>station_diur_temp_rng_c</th>\n",
       "      <th>station_max_temp_c</th>\n",
       "      <th>station_min_temp_c</th>\n",
       "      <th>station_precip_mm</th>\n",
       "      <th>predicted_total_cases</th>\n",
       "    </tr>\n",
       "  </thead>\n",
       "  <tbody>\n",
       "    <tr>\n",
       "      <th>0</th>\n",
       "      <td>1</td>\n",
       "      <td>0</td>\n",
       "      <td>-0.818055</td>\n",
       "      <td>-1.011009</td>\n",
       "      <td>-1.328860</td>\n",
       "      <td>-1.199933</td>\n",
       "      <td>1.150400</td>\n",
       "      <td>-0.221428</td>\n",
       "      <td>-0.613830</td>\n",
       "      <td>-0.580092</td>\n",
       "      <td>...</td>\n",
       "      <td>-0.499201</td>\n",
       "      <td>1.150400</td>\n",
       "      <td>-0.641950</td>\n",
       "      <td>-0.561356</td>\n",
       "      <td>-0.679804</td>\n",
       "      <td>-0.317596</td>\n",
       "      <td>0.399792</td>\n",
       "      <td>-0.389715</td>\n",
       "      <td>1.194135</td>\n",
       "      <td>22.498454</td>\n",
       "    </tr>\n",
       "    <tr>\n",
       "      <th>1</th>\n",
       "      <td>1</td>\n",
       "      <td>0</td>\n",
       "      <td>-0.812519</td>\n",
       "      <td>-0.964960</td>\n",
       "      <td>-1.590935</td>\n",
       "      <td>-1.405393</td>\n",
       "      <td>-0.728707</td>\n",
       "      <td>-0.233126</td>\n",
       "      <td>-0.608350</td>\n",
       "      <td>-0.666350</td>\n",
       "      <td>...</td>\n",
       "      <td>-0.573999</td>\n",
       "      <td>-0.728707</td>\n",
       "      <td>-0.723550</td>\n",
       "      <td>-0.718996</td>\n",
       "      <td>-1.054143</td>\n",
       "      <td>-0.935567</td>\n",
       "      <td>-1.314781</td>\n",
       "      <td>-0.097815</td>\n",
       "      <td>0.009773</td>\n",
       "      <td>24.703393</td>\n",
       "    </tr>\n",
       "    <tr>\n",
       "      <th>2</th>\n",
       "      <td>1</td>\n",
       "      <td>0</td>\n",
       "      <td>-0.711032</td>\n",
       "      <td>-0.964960</td>\n",
       "      <td>-0.716238</td>\n",
       "      <td>-1.196358</td>\n",
       "      <td>-0.981948</td>\n",
       "      <td>0.435638</td>\n",
       "      <td>0.005401</td>\n",
       "      <td>-0.067231</td>\n",
       "      <td>...</td>\n",
       "      <td>-0.568573</td>\n",
       "      <td>-0.981948</td>\n",
       "      <td>-0.156931</td>\n",
       "      <td>-0.193532</td>\n",
       "      <td>0.466610</td>\n",
       "      <td>-0.017438</td>\n",
       "      <td>0.140009</td>\n",
       "      <td>0.252466</td>\n",
       "      <td>-0.896597</td>\n",
       "      <td>22.530502</td>\n",
       "    </tr>\n",
       "    <tr>\n",
       "      <th>3</th>\n",
       "      <td>1</td>\n",
       "      <td>0</td>\n",
       "      <td>-0.711032</td>\n",
       "      <td>-1.017858</td>\n",
       "      <td>-1.055202</td>\n",
       "      <td>-0.824759</td>\n",
       "      <td>-1.086090</td>\n",
       "      <td>0.595518</td>\n",
       "      <td>0.290357</td>\n",
       "      <td>-0.661662</td>\n",
       "      <td>...</td>\n",
       "      <td>-1.281284</td>\n",
       "      <td>-1.086090</td>\n",
       "      <td>-0.733636</td>\n",
       "      <td>-0.217784</td>\n",
       "      <td>0.571893</td>\n",
       "      <td>-0.641295</td>\n",
       "      <td>0.399792</td>\n",
       "      <td>1.186548</td>\n",
       "      <td>-0.974782</td>\n",
       "      <td>21.143225</td>\n",
       "    </tr>\n",
       "    <tr>\n",
       "      <th>4</th>\n",
       "      <td>1</td>\n",
       "      <td>0</td>\n",
       "      <td>-0.352443</td>\n",
       "      <td>-0.594912</td>\n",
       "      <td>-1.841486</td>\n",
       "      <td>-1.366228</td>\n",
       "      <td>-1.064465</td>\n",
       "      <td>0.656935</td>\n",
       "      <td>0.246517</td>\n",
       "      <td>-0.427265</td>\n",
       "      <td>...</td>\n",
       "      <td>-1.136339</td>\n",
       "      <td>-1.064465</td>\n",
       "      <td>-0.501670</td>\n",
       "      <td>-0.444137</td>\n",
       "      <td>0.209252</td>\n",
       "      <td>-0.305825</td>\n",
       "      <td>0.399792</td>\n",
       "      <td>0.544367</td>\n",
       "      <td>1.451857</td>\n",
       "      <td>24.336512</td>\n",
       "    </tr>\n",
       "  </tbody>\n",
       "</table>\n",
       "<p>5 rows × 23 columns</p>\n",
       "</div>"
      ],
      "text/plain": [
       "   city  year   ndvi_ne   ndvi_nw   ndvi_se   ndvi_sw  precipitation_amt_mm  \\\n",
       "0     1     0 -0.818055 -1.011009 -1.328860 -1.199933              1.150400   \n",
       "1     1     0 -0.812519 -0.964960 -1.590935 -1.405393             -0.728707   \n",
       "2     1     0 -0.711032 -0.964960 -0.716238 -1.196358             -0.981948   \n",
       "3     1     0 -0.711032 -1.017858 -1.055202 -0.824759             -1.086090   \n",
       "4     1     0 -0.352443 -0.594912 -1.841486 -1.366228             -1.064465   \n",
       "\n",
       "   reanalysis_air_temp_k  reanalysis_avg_temp_k  reanalysis_dew_point_temp_k  \\\n",
       "0              -0.221428              -0.613830                    -0.580092   \n",
       "1              -0.233126              -0.608350                    -0.666350   \n",
       "2               0.435638               0.005401                    -0.067231   \n",
       "3               0.595518               0.290357                    -0.661662   \n",
       "4               0.656935               0.246517                    -0.427265   \n",
       "\n",
       "   ...  reanalysis_relative_humidity_percent  reanalysis_sat_precip_amt_mm  \\\n",
       "0  ...                             -0.499201                      1.150400   \n",
       "1  ...                             -0.573999                     -0.728707   \n",
       "2  ...                             -0.568573                     -0.981948   \n",
       "3  ...                             -1.281284                     -1.086090   \n",
       "4  ...                             -1.136339                     -1.064465   \n",
       "\n",
       "   reanalysis_specific_humidity_g_per_kg  reanalysis_tdtr_k  \\\n",
       "0                              -0.641950          -0.561356   \n",
       "1                              -0.723550          -0.718996   \n",
       "2                              -0.156931          -0.193532   \n",
       "3                              -0.733636          -0.217784   \n",
       "4                              -0.501670          -0.444137   \n",
       "\n",
       "   station_avg_temp_c  station_diur_temp_rng_c  station_max_temp_c  \\\n",
       "0           -0.679804                -0.317596            0.399792   \n",
       "1           -1.054143                -0.935567           -1.314781   \n",
       "2            0.466610                -0.017438            0.140009   \n",
       "3            0.571893                -0.641295            0.399792   \n",
       "4            0.209252                -0.305825            0.399792   \n",
       "\n",
       "   station_min_temp_c  station_precip_mm  predicted_total_cases  \n",
       "0           -0.389715           1.194135              22.498454  \n",
       "1           -0.097815           0.009773              24.703393  \n",
       "2            0.252466          -0.896597              22.530502  \n",
       "3            1.186548          -0.974782              21.143225  \n",
       "4            0.544367           1.451857              24.336512  \n",
       "\n",
       "[5 rows x 23 columns]"
      ]
     },
     "execution_count": 838,
     "metadata": {},
     "output_type": "execute_result"
    }
   ],
   "source": [
    "df_test['predicted_total_cases']=dengue_feature_predict\n",
    "df_test.head()"
   ]
  },
  {
   "cell_type": "code",
   "execution_count": 839,
   "metadata": {},
   "outputs": [],
   "source": [
    "df_test.to_csv(r'C:\\Users\\18132\\Desktop\\My Docs\\DSP\\Ass_2\\submission_format.csv', index = False)"
   ]
  }
 ],
 "metadata": {
  "kernelspec": {
   "display_name": "Python 3",
   "language": "python",
   "name": "python3"
  },
  "language_info": {
   "codemirror_mode": {
    "name": "ipython",
    "version": 3
   },
   "file_extension": ".py",
   "mimetype": "text/x-python",
   "name": "python",
   "nbconvert_exporter": "python",
   "pygments_lexer": "ipython3",
   "version": "3.7.3"
  }
 },
 "nbformat": 4,
 "nbformat_minor": 2
}
