{
 "cells": [
  {
   "cell_type": "markdown",
   "metadata": {},
   "source": [
    "# Assignment 4 - Data Set Description\n",
    "The questions below relate to the data files associated with the contest with the title 'DengAI: Predicting Disease Spread' published at the following website. \n",
    "https://www.drivendata.org/competitions/44/dengai-predicting-disease-spread/data/\n",
    "\n",
    "Anyone can join the contest and showcase your skills. To know about contest submissions visit the following webpage\n",
    "https://www.drivendata.org/competitions/44/dengai-predicting-disease-spread/submissions/\n",
    "You can showcase your Machine Learning skills by ranking top in the contest. \n",
    "\n",
    "Problem description:\n",
    "Your goal is to predict the total_cases label for each (city, year, weekofyear) in the test set. There are two cities, San Juan and Iquitos, with test data for each city spanning 5 and 3 years respectively. You will make one submission that contains predictions for both cities. The data for each city have been concatenated along with a city column indicating the source: sj for San Juan and iq for Iquitos. The test set is a pure future hold-out, meaning the test data are sequential and non-overlapping with any of the training data. Throughout, missing values have been filled as NaNs.\n",
    "\n",
    "Assignment:\n",
    "The goal is achieved through three subsequent Assignments 1, 2, 3 and 4, all using the same dataset\n"
   ]
  },
  {
   "cell_type": "markdown",
   "metadata": {},
   "source": [
    "The features in this dataset\n",
    "You are provided the following set of information on a (year, weekofyear) timescale:\n",
    "\n",
    "(Where appropriate, units are provided as a _unit suffix on the feature name.)\n",
    "\n",
    "City and date indicators\n",
    "\n",
    "    city – City abbreviations: sj for San Juan and iq for Iquitos\n",
    "    week_start_date – Date given in yyyy-mm-dd format\n",
    "\n",
    "NOAA's GHCN daily climate data weather station measurements\n",
    "\n",
    "    station_max_temp_c – Maximum temperature\n",
    "    station_min_temp_c – Minimum temperature\n",
    "    station_avg_temp_c – Average temperature\n",
    "    station_precip_mm – Total precipitation\n",
    "    station_diur_temp_rng_c – Diurnal temperature range\n",
    "    \n",
    "PERSIANN satellite precipitation measurements (0.25x0.25 degree scale)\n",
    "\n",
    "    precipitation_amt_mm – Total precipitation\n",
    "\n",
    "NOAA's NCEP Climate Forecast System Reanalysis measurements (0.5x0.5 degree scale)\n",
    "\n",
    "    reanalysis_sat_precip_amt_mm – Total precipitation\n",
    "    reanalysis_dew_point_temp_k – Mean dew point temperature\n",
    "    reanalysis_air_temp_k – Mean air temperature\n",
    "    reanalysis_relative_humidity_percent – Mean relative humidity\n",
    "    reanalysis_specific_humidity_g_per_kg – Mean specific humidity\n",
    "    reanalysis_precip_amt_kg_per_m2 – Total precipitation\n",
    "    reanalysis_max_air_temp_k – Maximum air temperature\n",
    "    reanalysis_min_air_temp_k – Minimum air temperature\n",
    "    reanalysis_avg_temp_k – Average air temperature\n",
    "    reanalysis_tdtr_k – Diurnal temperature range\n",
    "\n",
    "Satellite vegetation - Normalized difference vegetation index (NDVI) - NOAA's CDR Normalized Difference Vegetation Index (0.5x0.5 degree scale) measurements\n",
    "\n",
    "    ndvi_se – Pixel southeast of city centroid\n",
    "    ndvi_sw – Pixel southwest of city centroid\n",
    "    ndvi_ne – Pixel northeast of city centroid\n",
    "    ndvi_nw – Pixel northwest of city centroid"
   ]
  },
  {
   "cell_type": "markdown",
   "metadata": {},
   "source": [
    "# Assignment 4 - Questions\n",
    "Use the merged data frame from Assignment 1,2  and 3 for this assignment\n",
    "\n",
    "This Assignment focuses on data preprocessing and model building. Continue with the datasets loaded in Assignment 1, 2 and 3 (or reload with same steps and create merged data frame). In this assignment you need to use Neural Network"
   ]
  },
  {
   "cell_type": "markdown",
   "metadata": {},
   "source": [
    "1. Load the data (both features and label data set as before)\n",
    "2. Preprocess the data - briefly comment if any special preprocessing is adopted to suit Neural Network\n",
    "\n",
    "\n",
    "\n",
    "Submit the .ipynb, and .html (optional submission.csv if you performed MLP regressor)\n"
   ]
  },
  {
   "cell_type": "code",
   "execution_count": 132,
   "metadata": {},
   "outputs": [],
   "source": [
    "import pandas as pd\n",
    "import numpy as np\n",
    "import seaborn as sns\n",
    "import matplotlib.pyplot as plt\n",
    "from sklearn.model_selection import StratifiedShuffleSplit\n",
    "from sklearn.preprocessing import StandardScaler\n",
    "from sklearn import preprocessing\n",
    "from sklearn.neural_network import MLPRegressor\n",
    "from math import sqrt\n",
    "from sklearn.metrics import mean_squared_error, r2_score\n",
    "from sklearn.model_selection import train_test_split\n",
    "from sklearn.neural_network import MLPClassifier\n",
    "from sklearn.metrics import confusion_matrix\n",
    "from sklearn.metrics import f1_score\n",
    "from sklearn.metrics import precision_score\n",
    "from sklearn.metrics import recall_score"
   ]
  },
  {
   "cell_type": "code",
   "execution_count": 138,
   "metadata": {},
   "outputs": [],
   "source": [
    "#import the data\n",
    "df=pd.read_csv(\"C:/Users/18132/Desktop/My Docs/DSP/Ass_3/df_merged.csv\")"
   ]
  },
  {
   "cell_type": "code",
   "execution_count": 139,
   "metadata": {},
   "outputs": [
    {
     "name": "stdout",
     "output_type": "stream",
     "text": [
      "23.0\n",
      "(124, 25)\n"
     ]
    }
   ],
   "source": [
    "#Removing the outliers using inter-quantiles\n",
    "Q1=df['total_cases'].quantile(0.25)\n",
    "Q3=df['total_cases'].quantile(0.75)\n",
    "IQR=Q3-Q1\n",
    "print(IQR)\n",
    "df_out=pd.DataFrame()\n",
    "df_out=df[(df['total_cases']<(Q1-1.5*IQR))|(df['total_cases']>(Q3+1.5*IQR))]\n",
    "print(df_out.shape)"
   ]
  },
  {
   "cell_type": "code",
   "execution_count": 140,
   "metadata": {},
   "outputs": [
    {
     "data": {
      "text/plain": [
       "(1332, 25)"
      ]
     },
     "execution_count": 140,
     "metadata": {},
     "output_type": "execute_result"
    }
   ],
   "source": [
    "df_noout=df[~((df['total_cases']<(Q1-1.5*IQR))|(df['total_cases']>(Q3+1.5*IQR)))]\n",
    "df_noout.shape"
   ]
  },
  {
   "cell_type": "code",
   "execution_count": 141,
   "metadata": {},
   "outputs": [
    {
     "data": {
      "text/plain": [
       "city                          0\n",
       "year                          0\n",
       "weekofyear                    0\n",
       "week_start_date               0\n",
       "ndvi_ne                       0\n",
       "ndvi_nw                       0\n",
       "ndvi_se                       0\n",
       "ndvi_sw                       0\n",
       "prec_amt_mm                   0\n",
       "re_an_air_temp_k              0\n",
       "re_an_avg_temp_k              0\n",
       "re_an_dew_point_temp_k        0\n",
       "re_an_max_air_temp_k          0\n",
       "re_an_min_air_temp_k          0\n",
       "re_an_precip_amt_kg_per_m2    0\n",
       "re_an_relative_hd_percent     0\n",
       "re_an_sat_precip_amt_mm       0\n",
       "re_an_specific_hd_g_per_kg    0\n",
       "re_an_tdtr_k                  0\n",
       "stn_avg_temp_c                0\n",
       "stn_diur_temp_rng_c           0\n",
       "stn_max_temp_c                0\n",
       "stn_min_temp_c                0\n",
       "stn_precip_mm                 0\n",
       "total_cases                   0\n",
       "dtype: int64"
      ]
     },
     "execution_count": 141,
     "metadata": {},
     "output_type": "execute_result"
    }
   ],
   "source": [
    "#Checking if we have nans\n",
    "df_noout.isna().sum()"
   ]
  },
  {
   "cell_type": "code",
   "execution_count": 142,
   "metadata": {},
   "outputs": [],
   "source": [
    "#As correlation don't run for strings and also there is no point to check correlation of year and \n",
    "#week of year with other variables,as they are not integer values , but kind of factor variables, so we removed it and create a dataset\n",
    "df_new=df_noout.drop(columns=['city','week_start_date','year','weekofyear'])"
   ]
  },
  {
   "cell_type": "code",
   "execution_count": 143,
   "metadata": {},
   "outputs": [
    {
     "data": {
      "text/plain": [
       "<matplotlib.axes._subplots.AxesSubplot at 0x21c12c1ccc0>"
      ]
     },
     "execution_count": 143,
     "metadata": {},
     "output_type": "execute_result"
    },
    {
     "data": {
      "image/png": "[encoded data removed]",
      "text/plain": [
       "<Figure size 864x576 with 2 Axes>"
      ]
     },
     "metadata": {
      "needs_background": "light"
     },
     "output_type": "display_data"
    }
   ],
   "source": [
    "corr = df_new.corr().abs() #Calculate correlation and convert them to positive for plot\n",
    "c = corr[corr>=.8] #Take only highly correlated values, i.e. more than 0.8\n",
    "plt.figure(figsize=(12,8)) #Set the size of figure\n",
    "sns.heatmap(c,annot=True, cmap=\"Greens\",linewidths=.5) #Create correlation plot using heatmap"
   ]
  },
  {
   "cell_type": "markdown",
   "metadata": {},
   "source": [
    "From the above plot, we can see the variables which are highly correlated, so we can do feature selection based on this:\n",
    "\n",
    "1.ndvi_nw: Considered this between ndvi_nw and ndvi_ne, as both are highly correlated, so will keep one, also its near by direction, it might have same pixels.\n",
    "\n",
    "2.ndvi_sw: Considered this between ndvi_sw and ndvi_se, as both are highly correlated, so will keep one, also its near by direction, it might have same pixels.\n",
    "\n",
    "3.re_an_air_temp: Considered this between re_an_air_temp and re_an_avg_temp_k, as both are highly correlated and also both specify average air temperature.\n",
    "\n",
    "4.re_an_tdtr_k: Considered this, as it is highly correlated with re_an_min_air_temp_k, re_an_max_air_temp_k,stn_diur_temp_rng_c, also as we know diurnal temperature is difference of minimum and maximyum temperature.\n",
    "\n",
    "5.re_an_sat_precip_amt_mm: Considered this between re_an_sat_precip_amt_mm and prec_amt_mm, as they are highly correlated and also both are displaying the same values.\n",
    "\n",
    "6.re_an_specific_hd_g_per_kg:Considered this between re_an_specific_hd_g_per_kg and re_an_dew point_temp_k, as they are highly correlated and also both of them refer to water vapour in environment.\n",
    "\n",
    "7.re_an_precip_amt_kg_per_m2: Considered as it is not highly correlated with any variable\n",
    "\n",
    "8.re_an_relative_hd_percent:Considered, as not highly correlated with any variable, also it represents vapour to vapour and to dry air like specific humidity.\n",
    "\n",
    "9.Considered stn_avg_temp_c, stn_max_temp_c,stn_min_temp_c and stn_percip_mm, as none of them are highly correlated with other variables.\n",
    "\n",
    "10.week_start_date: We are not considering week_start_date, as we can get the same value by using the combination of week_of_year and year, so will kepp these two instead of week_start_date.\n",
    "\n"
   ]
  },
  {
   "cell_type": "code",
   "execution_count": 144,
   "metadata": {},
   "outputs": [
    {
     "data": {
      "text/plain": [
       "(1332, 16)"
      ]
     },
     "execution_count": 144,
     "metadata": {},
     "output_type": "execute_result"
    }
   ],
   "source": [
    "#Dataframe with selected variable\n",
    "df_sel=df_noout.drop(columns=['ndvi_ne','ndvi_se','re_an_avg_temp_k','re_an_min_air_temp_k','re_an_max_air_temp_k','stn_diur_temp_rng_c','prec_amt_mm','re_an_dew_point_temp_k','week_start_date'])\n",
    "df_sel.shape"
   ]
  },
  {
   "cell_type": "markdown",
   "metadata": {},
   "source": [
    "#Convert column with percentage to value/100"
   ]
  },
  {
   "cell_type": "code",
   "execution_count": 145,
   "metadata": {},
   "outputs": [],
   "source": [
    "df_sel['re_an_relative_hd_percent']=(df_sel['re_an_relative_hd_percent']/ 100).round(2)"
   ]
  },
  {
   "cell_type": "markdown",
   "metadata": {},
   "source": [
    "#Scale the vegetation features (ndvi*) as 0, 1 (0 <= 0.25 and 1 > 0.25) as it is in scale of 0 to 0.5"
   ]
  },
  {
   "cell_type": "code",
   "execution_count": 146,
   "metadata": {},
   "outputs": [],
   "source": [
    "df_sel.loc[df_sel['ndvi_nw']<=0.25,'sc_ndvi_nw']=0\n",
    "df_sel.loc[df_sel['ndvi_nw']>0.25,'sc_ndvi_nw']=1\n",
    "df_sel.loc[df_sel['ndvi_sw']<=0.25,'sc_ndvi_sw']=0\n",
    "df_sel.loc[df_sel['ndvi_sw']>0.25,'sc_ndvi_sw']=1"
   ]
  },
  {
   "cell_type": "code",
   "execution_count": 147,
   "metadata": {},
   "outputs": [],
   "source": [
    "df_sel=df_sel.drop(columns=['ndvi_nw','ndvi_sw'])"
   ]
  },
  {
   "cell_type": "code",
   "execution_count": 148,
   "metadata": {},
   "outputs": [
    {
     "data": {
      "text/html": [
       "<div>\n",
       "<style scoped>\n",
       "    .dataframe tbody tr th:only-of-type {\n",
       "        vertical-align: middle;\n",
       "    }\n",
       "\n",
       "    .dataframe tbody tr th {\n",
       "        vertical-align: top;\n",
       "    }\n",
       "\n",
       "    .dataframe thead th {\n",
       "        text-align: right;\n",
       "    }\n",
       "</style>\n",
       "<table border=\"1\" class=\"dataframe\">\n",
       "  <thead>\n",
       "    <tr style=\"text-align: right;\">\n",
       "      <th></th>\n",
       "      <th>city</th>\n",
       "      <th>year</th>\n",
       "      <th>weekofyear</th>\n",
       "      <th>re_an_air_temp_k</th>\n",
       "      <th>re_an_precip_amt_kg_per_m2</th>\n",
       "      <th>re_an_relative_hd_percent</th>\n",
       "      <th>re_an_sat_precip_amt_mm</th>\n",
       "      <th>re_an_specific_hd_g_per_kg</th>\n",
       "      <th>re_an_tdtr_k</th>\n",
       "      <th>stn_avg_temp_c</th>\n",
       "      <th>stn_max_temp_c</th>\n",
       "      <th>stn_min_temp_c</th>\n",
       "      <th>stn_precip_mm</th>\n",
       "      <th>total_cases</th>\n",
       "      <th>sc_ndvi_nw</th>\n",
       "      <th>sc_ndvi_sw</th>\n",
       "    </tr>\n",
       "  </thead>\n",
       "  <tbody>\n",
       "    <tr>\n",
       "      <th>0</th>\n",
       "      <td>sj</td>\n",
       "      <td>1990</td>\n",
       "      <td>18</td>\n",
       "      <td>297.572857</td>\n",
       "      <td>32.00</td>\n",
       "      <td>0.73</td>\n",
       "      <td>12.42</td>\n",
       "      <td>14.012857</td>\n",
       "      <td>2.628571</td>\n",
       "      <td>25.442857</td>\n",
       "      <td>29.4</td>\n",
       "      <td>20.0</td>\n",
       "      <td>16.0</td>\n",
       "      <td>4</td>\n",
       "      <td>0.0</td>\n",
       "      <td>0.0</td>\n",
       "    </tr>\n",
       "    <tr>\n",
       "      <th>1</th>\n",
       "      <td>sj</td>\n",
       "      <td>1990</td>\n",
       "      <td>19</td>\n",
       "      <td>298.211429</td>\n",
       "      <td>17.94</td>\n",
       "      <td>0.77</td>\n",
       "      <td>22.82</td>\n",
       "      <td>15.372857</td>\n",
       "      <td>2.371429</td>\n",
       "      <td>26.714286</td>\n",
       "      <td>31.7</td>\n",
       "      <td>22.2</td>\n",
       "      <td>8.6</td>\n",
       "      <td>5</td>\n",
       "      <td>0.0</td>\n",
       "      <td>0.0</td>\n",
       "    </tr>\n",
       "    <tr>\n",
       "      <th>2</th>\n",
       "      <td>sj</td>\n",
       "      <td>1990</td>\n",
       "      <td>20</td>\n",
       "      <td>298.781429</td>\n",
       "      <td>26.10</td>\n",
       "      <td>0.82</td>\n",
       "      <td>34.54</td>\n",
       "      <td>16.848571</td>\n",
       "      <td>2.300000</td>\n",
       "      <td>26.714286</td>\n",
       "      <td>32.2</td>\n",
       "      <td>22.8</td>\n",
       "      <td>41.4</td>\n",
       "      <td>4</td>\n",
       "      <td>0.0</td>\n",
       "      <td>0.0</td>\n",
       "    </tr>\n",
       "    <tr>\n",
       "      <th>3</th>\n",
       "      <td>sj</td>\n",
       "      <td>1990</td>\n",
       "      <td>21</td>\n",
       "      <td>298.987143</td>\n",
       "      <td>13.90</td>\n",
       "      <td>0.80</td>\n",
       "      <td>15.36</td>\n",
       "      <td>16.672857</td>\n",
       "      <td>2.428571</td>\n",
       "      <td>27.471429</td>\n",
       "      <td>33.3</td>\n",
       "      <td>23.3</td>\n",
       "      <td>4.0</td>\n",
       "      <td>3</td>\n",
       "      <td>0.0</td>\n",
       "      <td>0.0</td>\n",
       "    </tr>\n",
       "    <tr>\n",
       "      <th>4</th>\n",
       "      <td>sj</td>\n",
       "      <td>1990</td>\n",
       "      <td>22</td>\n",
       "      <td>299.518571</td>\n",
       "      <td>12.20</td>\n",
       "      <td>0.80</td>\n",
       "      <td>7.52</td>\n",
       "      <td>17.210000</td>\n",
       "      <td>3.014286</td>\n",
       "      <td>28.942857</td>\n",
       "      <td>35.0</td>\n",
       "      <td>23.9</td>\n",
       "      <td>5.8</td>\n",
       "      <td>6</td>\n",
       "      <td>1.0</td>\n",
       "      <td>0.0</td>\n",
       "    </tr>\n",
       "  </tbody>\n",
       "</table>\n",
       "</div>"
      ],
      "text/plain": [
       "  city  year  weekofyear  re_an_air_temp_k  re_an_precip_amt_kg_per_m2  \\\n",
       "0   sj  1990          18        297.572857                       32.00   \n",
       "1   sj  1990          19        298.211429                       17.94   \n",
       "2   sj  1990          20        298.781429                       26.10   \n",
       "3   sj  1990          21        298.987143                       13.90   \n",
       "4   sj  1990          22        299.518571                       12.20   \n",
       "\n",
       "   re_an_relative_hd_percent  re_an_sat_precip_amt_mm  \\\n",
       "0                       0.73                    12.42   \n",
       "1                       0.77                    22.82   \n",
       "2                       0.82                    34.54   \n",
       "3                       0.80                    15.36   \n",
       "4                       0.80                     7.52   \n",
       "\n",
       "   re_an_specific_hd_g_per_kg  re_an_tdtr_k  stn_avg_temp_c  stn_max_temp_c  \\\n",
       "0                   14.012857      2.628571       25.442857            29.4   \n",
       "1                   15.372857      2.371429       26.714286            31.7   \n",
       "2                   16.848571      2.300000       26.714286            32.2   \n",
       "3                   16.672857      2.428571       27.471429            33.3   \n",
       "4                   17.210000      3.014286       28.942857            35.0   \n",
       "\n",
       "   stn_min_temp_c  stn_precip_mm  total_cases  sc_ndvi_nw  sc_ndvi_sw  \n",
       "0            20.0           16.0            4         0.0         0.0  \n",
       "1            22.2            8.6            5         0.0         0.0  \n",
       "2            22.8           41.4            4         0.0         0.0  \n",
       "3            23.3            4.0            3         0.0         0.0  \n",
       "4            23.9            5.8            6         1.0         0.0  "
      ]
     },
     "execution_count": 148,
     "metadata": {},
     "output_type": "execute_result"
    }
   ],
   "source": [
    "df_sel.head()"
   ]
  },
  {
   "cell_type": "markdown",
   "metadata": {},
   "source": [
    "**3. Optional: Build a Neural Network Multi-Layer Perceptron Regressor model (you can use sklearn neural network MLP Regressor)**"
   ]
  },
  {
   "cell_type": "code",
   "execution_count": 149,
   "metadata": {},
   "outputs": [],
   "source": [
    "df_reg=df_sel"
   ]
  },
  {
   "cell_type": "markdown",
   "metadata": {},
   "source": [
    "#Checking the maximum datapoints around which value by using histogram, so that we can create the stratified split accordingly"
   ]
  },
  {
   "cell_type": "code",
   "execution_count": 150,
   "metadata": {},
   "outputs": [
    {
     "data": {
      "text/plain": [
       "Text(0.5, 1.0, 'Histogram of total cases')"
      ]
     },
     "execution_count": 150,
     "metadata": {},
     "output_type": "execute_result"
    },
    {
     "data": {
      "image/png": "[encoded data removed]",
      "text/plain": [
       "<Figure size 432x288 with 1 Axes>"
      ]
     },
     "metadata": {
      "needs_background": "light"
     },
     "output_type": "display_data"
    }
   ],
   "source": [
    "df_reg['total_cases'].hist(bins=60)\n",
    "plt.title(\"Histogram of total cases\")"
   ]
  },
  {
   "cell_type": "markdown",
   "metadata": {},
   "source": [
    "Create a total cases attribute to choose the reliable datapoint and remove the biases like as we can see in above plot some datapoints near by 60 can be biased one"
   ]
  },
  {
   "cell_type": "code",
   "execution_count": 151,
   "metadata": {},
   "outputs": [
    {
     "name": "stdout",
     "output_type": "stream",
     "text": [
      "[1. 2. 3. 4. 0.]\n"
     ]
    },
    {
     "data": {
      "image/png": "[encoded data removed]",
      "text/plain": [
       "<Figure size 432x288 with 1 Axes>"
      ]
     },
     "metadata": {
      "needs_background": "light"
     },
     "output_type": "display_data"
    }
   ],
   "source": [
    "df_reg[\"total_cases_cat\"]=np.ceil(df_reg[\"total_cases\"]/10) \n",
    "df_reg[\"total_cases_cat\"].where(df_reg[\"total_cases_cat\"]<4,4.0,inplace=True)\n",
    "df_reg[\"total_cases_cat\"].hist()\n",
    "print(df_reg[\"total_cases_cat\"].unique())"
   ]
  },
  {
   "cell_type": "markdown",
   "metadata": {},
   "source": [
    "The data is divided into following category with some percentage, the same should be there for split"
   ]
  },
  {
   "cell_type": "code",
   "execution_count": 152,
   "metadata": {},
   "outputs": [
    {
     "data": {
      "text/plain": [
       "1.0    0.434685\n",
       "2.0    0.215465\n",
       "4.0    0.147147\n",
       "3.0    0.127628\n",
       "0.0    0.075075\n",
       "Name: total_cases_cat, dtype: float64"
      ]
     },
     "execution_count": 152,
     "metadata": {},
     "output_type": "execute_result"
    }
   ],
   "source": [
    "df_reg[\"total_cases_cat\"].value_counts()/len(df_reg) "
   ]
  },
  {
   "cell_type": "markdown",
   "metadata": {},
   "source": [
    "Now split the data into 80:20 split by using stratified split method so that both train and test can have equal percentage of all categories"
   ]
  },
  {
   "cell_type": "code",
   "execution_count": 153,
   "metadata": {},
   "outputs": [
    {
     "name": "stdout",
     "output_type": "stream",
     "text": [
      "1.0    0.434742\n",
      "2.0    0.215023\n",
      "4.0    0.147418\n",
      "3.0    0.127700\n",
      "0.0    0.075117\n",
      "Name: total_cases_cat, dtype: float64\n"
     ]
    },
    {
     "data": {
      "text/plain": [
       "1.0    0.434457\n",
       "2.0    0.217228\n",
       "4.0    0.146067\n",
       "3.0    0.127341\n",
       "0.0    0.074906\n",
       "Name: total_cases_cat, dtype: float64"
      ]
     },
     "execution_count": 153,
     "metadata": {},
     "output_type": "execute_result"
    }
   ],
   "source": [
    "split=StratifiedShuffleSplit(n_splits=4,test_size=0.2,random_state=42) \n",
    "for train_index,test_index in split.split(df_reg,df_reg[\"total_cases_cat\"]):\n",
    "    train_set=df_reg.iloc[train_index]\n",
    "    test_set=df_reg.iloc[test_index]\n",
    "print(train_set[\"total_cases_cat\"].value_counts()/len(train_set)) \n",
    "test_set[\"total_cases_cat\"].value_counts()/len(test_set)"
   ]
  },
  {
   "cell_type": "markdown",
   "metadata": {},
   "source": [
    "Encoding the categorical variable like city,year and weekofyear using label encoder,as it is the most efficient method, with one hot encoding and get dummies, it will create multiple column for each category and less efficient"
   ]
  },
  {
   "cell_type": "code",
   "execution_count": 154,
   "metadata": {},
   "outputs": [
    {
     "name": "stderr",
     "output_type": "stream",
     "text": [
      "C:\\Users\\18132\\Anaconda3\\lib\\site-packages\\ipykernel_launcher.py:2: SettingWithCopyWarning: \n",
      "A value is trying to be set on a copy of a slice from a DataFrame.\n",
      "Try using .loc[row_indexer,col_indexer] = value instead\n",
      "\n",
      "See the caveats in the documentation: http://pandas.pydata.org/pandas-docs/stable/indexing.html#indexing-view-versus-copy\n",
      "  \n",
      "C:\\Users\\18132\\Anaconda3\\lib\\site-packages\\ipykernel_launcher.py:3: SettingWithCopyWarning: \n",
      "A value is trying to be set on a copy of a slice from a DataFrame.\n",
      "Try using .loc[row_indexer,col_indexer] = value instead\n",
      "\n",
      "See the caveats in the documentation: http://pandas.pydata.org/pandas-docs/stable/indexing.html#indexing-view-versus-copy\n",
      "  This is separate from the ipykernel package so we can avoid doing imports until\n",
      "C:\\Users\\18132\\Anaconda3\\lib\\site-packages\\ipykernel_launcher.py:4: SettingWithCopyWarning: \n",
      "A value is trying to be set on a copy of a slice from a DataFrame.\n",
      "Try using .loc[row_indexer,col_indexer] = value instead\n",
      "\n",
      "See the caveats in the documentation: http://pandas.pydata.org/pandas-docs/stable/indexing.html#indexing-view-versus-copy\n",
      "  after removing the cwd from sys.path.\n",
      "C:\\Users\\18132\\Anaconda3\\lib\\site-packages\\ipykernel_launcher.py:5: SettingWithCopyWarning: \n",
      "A value is trying to be set on a copy of a slice from a DataFrame.\n",
      "Try using .loc[row_indexer,col_indexer] = value instead\n",
      "\n",
      "See the caveats in the documentation: http://pandas.pydata.org/pandas-docs/stable/indexing.html#indexing-view-versus-copy\n",
      "  \"\"\"\n",
      "C:\\Users\\18132\\Anaconda3\\lib\\site-packages\\ipykernel_launcher.py:6: SettingWithCopyWarning: \n",
      "A value is trying to be set on a copy of a slice from a DataFrame.\n",
      "Try using .loc[row_indexer,col_indexer] = value instead\n",
      "\n",
      "See the caveats in the documentation: http://pandas.pydata.org/pandas-docs/stable/indexing.html#indexing-view-versus-copy\n",
      "  \n",
      "C:\\Users\\18132\\Anaconda3\\lib\\site-packages\\ipykernel_launcher.py:7: SettingWithCopyWarning: \n",
      "A value is trying to be set on a copy of a slice from a DataFrame.\n",
      "Try using .loc[row_indexer,col_indexer] = value instead\n",
      "\n",
      "See the caveats in the documentation: http://pandas.pydata.org/pandas-docs/stable/indexing.html#indexing-view-versus-copy\n",
      "  import sys\n"
     ]
    }
   ],
   "source": [
    "le = preprocessing.LabelEncoder()\n",
    "train_set['year']=le.fit_transform(train_set['year'])\n",
    "test_set['year']=le.transform(test_set['year'])\n",
    "train_set['city']=le.fit_transform(train_set['city'])\n",
    "test_set['city']=le.transform(test_set['city'])\n",
    "train_set['weekofyear']=le.fit_transform(train_set['weekofyear'])\n",
    "test_set['weekofyear']=le.transform(test_set['weekofyear'])"
   ]
  },
  {
   "cell_type": "code",
   "execution_count": 155,
   "metadata": {},
   "outputs": [],
   "source": [
    "X_train_reg=train_set.drop(columns=['total_cases','total_cases_cat'])\n",
    "X_test_reg=test_set.drop(columns=['total_cases','total_cases_cat'])\n",
    "y_train_reg=train_set['total_cases']\n",
    "y_test_reg=test_set['total_cases']"
   ]
  },
  {
   "cell_type": "markdown",
   "metadata": {},
   "source": [
    "Did the scaling of all the columns of train and test except city,year and week of year, as they are already done while encoding, train is fit transformed and test is only transformed as it should not learn from train dataset"
   ]
  },
  {
   "cell_type": "code",
   "execution_count": 156,
   "metadata": {},
   "outputs": [],
   "source": [
    "sc=StandardScaler()\n",
    "X_train_reg.iloc[:,3:13]=sc.fit_transform(X_train_reg.iloc[:,3:13])\n",
    "X_test_reg.iloc[:,3:13]=sc.transform(X_test_reg.iloc[:,3:13])"
   ]
  },
  {
   "cell_type": "code",
   "execution_count": 157,
   "metadata": {},
   "outputs": [],
   "source": [
    "X_train_rnp=X_train_reg.to_numpy()\n",
    "X_test_rnp=X_test_reg.to_numpy()\n",
    "y_train_rnp=y_train_reg.to_numpy()\n",
    "y_test_rnp=y_test_reg.to_numpy()"
   ]
  },
  {
   "cell_type": "markdown",
   "metadata": {},
   "source": [
    "**MLP Regressor**"
   ]
  },
  {
   "cell_type": "code",
   "execution_count": 53,
   "metadata": {},
   "outputs": [
    {
     "data": {
      "text/plain": [
       "MLPRegressor(activation='relu', alpha=0.0001, batch_size='auto', beta_1=0.9,\n",
       "             beta_2=0.999, early_stopping=False, epsilon=1e-08,\n",
       "             hidden_layer_sizes=(100,), learning_rate='constant',\n",
       "             learning_rate_init=0.001, max_iter=200, momentum=0.9,\n",
       "             n_iter_no_change=10, nesterovs_momentum=True, power_t=0.5,\n",
       "             random_state=42, shuffle=True, solver='lbfgs', tol=0.0001,\n",
       "             validation_fraction=0.1, verbose=False, warm_start=False)"
      ]
     },
     "execution_count": 53,
     "metadata": {},
     "output_type": "execute_result"
    }
   ],
   "source": [
    "mlp_reg=MLPRegressor(hidden_layer_sizes=(100, ), activation='relu', solver='lbfgs',random_state=42)\n",
    "mlp_reg.fit(X_train_rnp,y_train_rnp)\n"
   ]
  },
  {
   "cell_type": "code",
   "execution_count": 56,
   "metadata": {},
   "outputs": [
    {
     "name": "stdout",
     "output_type": "stream",
     "text": [
      "Root Mean squared error test: 10.79\n"
     ]
    }
   ],
   "source": [
    "mlp_reg1_predict=mlp_reg.predict(X_test_rnp)\n",
    "print(\"Root Mean squared error test: %.2f\" %sqrt(mean_squared_error(y_test_rnp,mlp_reg1_predict)))"
   ]
  },
  {
   "cell_type": "code",
   "execution_count": 61,
   "metadata": {},
   "outputs": [
    {
     "name": "stdout",
     "output_type": "stream",
     "text": [
      "Root Mean squared error test: 10.59\n"
     ]
    }
   ],
   "source": [
    "mlp_reg1=MLPRegressor(hidden_layer_sizes=(50,100), activation='relu', solver='lbfgs',random_state=42)\n",
    "mlp_reg1.fit(X_train_rnp,y_train_rnp)\n",
    "mlp_reg1_predict1=mlp_reg1.predict(X_test_rnp)\n",
    "print(\"Root Mean squared error test: %.2f\" %sqrt(mean_squared_error(y_test_rnp,mlp_reg1_predict1)))"
   ]
  },
  {
   "cell_type": "markdown",
   "metadata": {},
   "source": [
    "**4. Optional: Evaluate the model and compare it with the previous three assignments**"
   ]
  },
  {
   "cell_type": "code",
   "execution_count": 62,
   "metadata": {},
   "outputs": [
    {
     "data": {
      "text/html": [
       "<div>\n",
       "<style scoped>\n",
       "    .dataframe tbody tr th:only-of-type {\n",
       "        vertical-align: middle;\n",
       "    }\n",
       "\n",
       "    .dataframe tbody tr th {\n",
       "        vertical-align: top;\n",
       "    }\n",
       "\n",
       "    .dataframe thead th {\n",
       "        text-align: right;\n",
       "    }\n",
       "</style>\n",
       "<table border=\"1\" class=\"dataframe\">\n",
       "  <thead>\n",
       "    <tr style=\"text-align: right;\">\n",
       "      <th></th>\n",
       "      <th>Model</th>\n",
       "      <th>RMSE of test data</th>\n",
       "    </tr>\n",
       "  </thead>\n",
       "  <tbody>\n",
       "    <tr>\n",
       "      <th>0</th>\n",
       "      <td>SGD</td>\n",
       "      <td>12.33</td>\n",
       "    </tr>\n",
       "    <tr>\n",
       "      <th>1</th>\n",
       "      <td>Linear SVR</td>\n",
       "      <td>12.15</td>\n",
       "    </tr>\n",
       "    <tr>\n",
       "      <th>2</th>\n",
       "      <td>MLP Regressor</td>\n",
       "      <td>10.59</td>\n",
       "    </tr>\n",
       "  </tbody>\n",
       "</table>\n",
       "</div>"
      ],
      "text/plain": [
       "           Model RMSE of test data\n",
       "0            SGD             12.33\n",
       "1     Linear SVR             12.15\n",
       "2  MLP Regressor             10.59"
      ]
     },
     "execution_count": 62,
     "metadata": {},
     "output_type": "execute_result"
    }
   ],
   "source": [
    "regression=pd.DataFrame(np.array([['SGD','12.33'],['Linear SVR','12.15'],['MLP Regressor','10.59']]),columns=['Model','RMSE of test data'])\n",
    "regression.head()"
   ]
  },
  {
   "cell_type": "markdown",
   "metadata": {},
   "source": [
    "As we can see MLP regressor has lowest RMSE, it is the best model among all three models."
   ]
  },
  {
   "cell_type": "markdown",
   "metadata": {},
   "source": [
    "**Submission file for MLP REgressor**"
   ]
  },
  {
   "cell_type": "code",
   "execution_count": 158,
   "metadata": {},
   "outputs": [],
   "source": [
    "sub_test=pd.read_csv(\"dengue_features_test.csv\")\n",
    "sub_test=sub_test.fillna(method='ffill')"
   ]
  },
  {
   "cell_type": "code",
   "execution_count": 159,
   "metadata": {},
   "outputs": [
    {
     "name": "stderr",
     "output_type": "stream",
     "text": [
      "C:\\Users\\18132\\Anaconda3\\lib\\site-packages\\ipykernel_launcher.py:4: SettingWithCopyWarning: \n",
      "A value is trying to be set on a copy of a slice from a DataFrame.\n",
      "Try using .loc[row_indexer,col_indexer] = value instead\n",
      "\n",
      "See the caveats in the documentation: http://pandas.pydata.org/pandas-docs/stable/indexing.html#indexing-view-versus-copy\n",
      "  after removing the cwd from sys.path.\n",
      "C:\\Users\\18132\\Anaconda3\\lib\\site-packages\\ipykernel_launcher.py:5: FutureWarning: elementwise comparison failed; returning scalar instead, but in the future will perform elementwise comparison\n",
      "  \"\"\"\n",
      "C:\\Users\\18132\\Anaconda3\\lib\\site-packages\\ipykernel_launcher.py:9: SettingWithCopyWarning: \n",
      "A value is trying to be set on a copy of a slice from a DataFrame.\n",
      "Try using .loc[row_indexer,col_indexer] = value instead\n",
      "\n",
      "See the caveats in the documentation: http://pandas.pydata.org/pandas-docs/stable/indexing.html#indexing-view-versus-copy\n",
      "  if __name__ == '__main__':\n"
     ]
    }
   ],
   "source": [
    "#Encoding week of year for new test file\n",
    "sub_test['weekofyear']=le.transform(sub_test['weekofyear'])\n",
    "#Encoding city of new test file\n",
    "train_set['city'] = le.fit_transform(train_set['city'])\n",
    "sub_test['city'] = sub_test['city'].map(lambda s: '<unknown>' if s not in le.classes_ else s)\n",
    "le.classes_ = np.append(le.classes_, '<unknown>')\n",
    "sub_test['city'] = le.transform(sub_test['city'])\n",
    "#Encoding year of new test file\n",
    "train_set['year'] = le.fit_transform(train_set['year'])\n",
    "sub_test['year'] = sub_test['year'].map(lambda s: '<unknown>' if s not in le.classes_ else s)\n",
    "le.classes_ = np.append(le.classes_, '<unknown>')\n",
    "sub_test['year'] = le.transform(sub_test['year'])"
   ]
  },
  {
   "cell_type": "code",
   "execution_count": 160,
   "metadata": {},
   "outputs": [
    {
     "data": {
      "text/html": [
       "<div>\n",
       "<style scoped>\n",
       "    .dataframe tbody tr th:only-of-type {\n",
       "        vertical-align: middle;\n",
       "    }\n",
       "\n",
       "    .dataframe tbody tr th {\n",
       "        vertical-align: top;\n",
       "    }\n",
       "\n",
       "    .dataframe thead th {\n",
       "        text-align: right;\n",
       "    }\n",
       "</style>\n",
       "<table border=\"1\" class=\"dataframe\">\n",
       "  <thead>\n",
       "    <tr style=\"text-align: right;\">\n",
       "      <th></th>\n",
       "      <th>city</th>\n",
       "      <th>year</th>\n",
       "      <th>weekofyear</th>\n",
       "      <th>week_start_date</th>\n",
       "      <th>ndvi_ne</th>\n",
       "      <th>ndvi_nw</th>\n",
       "      <th>ndvi_se</th>\n",
       "      <th>ndvi_sw</th>\n",
       "      <th>prec_amt_mm</th>\n",
       "      <th>re_an_air_temp_k</th>\n",
       "      <th>...</th>\n",
       "      <th>re_an_precip_amt_kg_per_m2</th>\n",
       "      <th>re_an_relative_hd_percent</th>\n",
       "      <th>re_an_sat_precip_amt_mm</th>\n",
       "      <th>re_an_specific_hd_g_per_kg</th>\n",
       "      <th>re_an_tdtr_k</th>\n",
       "      <th>stn_avg_temp_c</th>\n",
       "      <th>stn_diur_temp_rng_c</th>\n",
       "      <th>stn_max_temp_c</th>\n",
       "      <th>stn_min_temp_c</th>\n",
       "      <th>stn_precip_mm</th>\n",
       "    </tr>\n",
       "  </thead>\n",
       "  <tbody>\n",
       "    <tr>\n",
       "      <th>0</th>\n",
       "      <td>2</td>\n",
       "      <td>21</td>\n",
       "      <td>17</td>\n",
       "      <td>2008-04-29</td>\n",
       "      <td>-0.0189</td>\n",
       "      <td>-0.018900</td>\n",
       "      <td>0.102729</td>\n",
       "      <td>0.091200</td>\n",
       "      <td>78.60</td>\n",
       "      <td>298.492857</td>\n",
       "      <td>...</td>\n",
       "      <td>25.37</td>\n",
       "      <td>78.781429</td>\n",
       "      <td>78.60</td>\n",
       "      <td>15.918571</td>\n",
       "      <td>3.128571</td>\n",
       "      <td>26.528571</td>\n",
       "      <td>7.057143</td>\n",
       "      <td>33.3</td>\n",
       "      <td>21.7</td>\n",
       "      <td>75.2</td>\n",
       "    </tr>\n",
       "    <tr>\n",
       "      <th>1</th>\n",
       "      <td>2</td>\n",
       "      <td>21</td>\n",
       "      <td>18</td>\n",
       "      <td>2008-05-06</td>\n",
       "      <td>-0.0180</td>\n",
       "      <td>-0.012400</td>\n",
       "      <td>0.082043</td>\n",
       "      <td>0.072314</td>\n",
       "      <td>12.56</td>\n",
       "      <td>298.475714</td>\n",
       "      <td>...</td>\n",
       "      <td>21.83</td>\n",
       "      <td>78.230000</td>\n",
       "      <td>12.56</td>\n",
       "      <td>15.791429</td>\n",
       "      <td>2.571429</td>\n",
       "      <td>26.071429</td>\n",
       "      <td>5.557143</td>\n",
       "      <td>30.0</td>\n",
       "      <td>22.2</td>\n",
       "      <td>34.3</td>\n",
       "    </tr>\n",
       "    <tr>\n",
       "      <th>2</th>\n",
       "      <td>2</td>\n",
       "      <td>21</td>\n",
       "      <td>19</td>\n",
       "      <td>2008-05-13</td>\n",
       "      <td>-0.0015</td>\n",
       "      <td>-0.012400</td>\n",
       "      <td>0.151083</td>\n",
       "      <td>0.091529</td>\n",
       "      <td>3.66</td>\n",
       "      <td>299.455714</td>\n",
       "      <td>...</td>\n",
       "      <td>4.12</td>\n",
       "      <td>78.270000</td>\n",
       "      <td>3.66</td>\n",
       "      <td>16.674286</td>\n",
       "      <td>4.428571</td>\n",
       "      <td>27.928571</td>\n",
       "      <td>7.785714</td>\n",
       "      <td>32.8</td>\n",
       "      <td>22.8</td>\n",
       "      <td>3.0</td>\n",
       "    </tr>\n",
       "    <tr>\n",
       "      <th>3</th>\n",
       "      <td>2</td>\n",
       "      <td>21</td>\n",
       "      <td>20</td>\n",
       "      <td>2008-05-20</td>\n",
       "      <td>-0.0015</td>\n",
       "      <td>-0.019867</td>\n",
       "      <td>0.124329</td>\n",
       "      <td>0.125686</td>\n",
       "      <td>0.00</td>\n",
       "      <td>299.690000</td>\n",
       "      <td>...</td>\n",
       "      <td>2.20</td>\n",
       "      <td>73.015714</td>\n",
       "      <td>0.00</td>\n",
       "      <td>15.775714</td>\n",
       "      <td>4.342857</td>\n",
       "      <td>28.057143</td>\n",
       "      <td>6.271429</td>\n",
       "      <td>33.3</td>\n",
       "      <td>24.4</td>\n",
       "      <td>0.3</td>\n",
       "    </tr>\n",
       "    <tr>\n",
       "      <th>4</th>\n",
       "      <td>2</td>\n",
       "      <td>21</td>\n",
       "      <td>21</td>\n",
       "      <td>2008-05-27</td>\n",
       "      <td>0.0568</td>\n",
       "      <td>0.039833</td>\n",
       "      <td>0.062267</td>\n",
       "      <td>0.075914</td>\n",
       "      <td>0.76</td>\n",
       "      <td>299.780000</td>\n",
       "      <td>...</td>\n",
       "      <td>4.36</td>\n",
       "      <td>74.084286</td>\n",
       "      <td>0.76</td>\n",
       "      <td>16.137143</td>\n",
       "      <td>3.542857</td>\n",
       "      <td>27.614286</td>\n",
       "      <td>7.085714</td>\n",
       "      <td>33.3</td>\n",
       "      <td>23.3</td>\n",
       "      <td>84.1</td>\n",
       "    </tr>\n",
       "  </tbody>\n",
       "</table>\n",
       "<p>5 rows × 24 columns</p>\n",
       "</div>"
      ],
      "text/plain": [
       "   city  year  weekofyear week_start_date  ndvi_ne   ndvi_nw   ndvi_se  \\\n",
       "0     2    21          17      2008-04-29  -0.0189 -0.018900  0.102729   \n",
       "1     2    21          18      2008-05-06  -0.0180 -0.012400  0.082043   \n",
       "2     2    21          19      2008-05-13  -0.0015 -0.012400  0.151083   \n",
       "3     2    21          20      2008-05-20  -0.0015 -0.019867  0.124329   \n",
       "4     2    21          21      2008-05-27   0.0568  0.039833  0.062267   \n",
       "\n",
       "    ndvi_sw  prec_amt_mm  re_an_air_temp_k  ...  re_an_precip_amt_kg_per_m2  \\\n",
       "0  0.091200        78.60        298.492857  ...                       25.37   \n",
       "1  0.072314        12.56        298.475714  ...                       21.83   \n",
       "2  0.091529         3.66        299.455714  ...                        4.12   \n",
       "3  0.125686         0.00        299.690000  ...                        2.20   \n",
       "4  0.075914         0.76        299.780000  ...                        4.36   \n",
       "\n",
       "   re_an_relative_hd_percent  re_an_sat_precip_amt_mm  \\\n",
       "0                  78.781429                    78.60   \n",
       "1                  78.230000                    12.56   \n",
       "2                  78.270000                     3.66   \n",
       "3                  73.015714                     0.00   \n",
       "4                  74.084286                     0.76   \n",
       "\n",
       "   re_an_specific_hd_g_per_kg  re_an_tdtr_k  stn_avg_temp_c  \\\n",
       "0                   15.918571      3.128571       26.528571   \n",
       "1                   15.791429      2.571429       26.071429   \n",
       "2                   16.674286      4.428571       27.928571   \n",
       "3                   15.775714      4.342857       28.057143   \n",
       "4                   16.137143      3.542857       27.614286   \n",
       "\n",
       "   stn_diur_temp_rng_c  stn_max_temp_c  stn_min_temp_c  stn_precip_mm  \n",
       "0             7.057143            33.3            21.7           75.2  \n",
       "1             5.557143            30.0            22.2           34.3  \n",
       "2             7.785714            32.8            22.8            3.0  \n",
       "3             6.271429            33.3            24.4            0.3  \n",
       "4             7.085714            33.3            23.3           84.1  \n",
       "\n",
       "[5 rows x 24 columns]"
      ]
     },
     "execution_count": 160,
     "metadata": {},
     "output_type": "execute_result"
    }
   ],
   "source": [
    "#renaming the columns as we did it for train data\n",
    "sub_test.columns=sub_test.columns.str.replace('station','stn')\n",
    "sub_test.columns=sub_test.columns.str.replace('reanalysis','re_an')\n",
    "sub_test.columns=sub_test.columns.str.replace('humidity','hd')\n",
    "sub_test.columns=sub_test.columns.str.replace('precipitation','prec')\n",
    "sub_test.head()"
   ]
  },
  {
   "cell_type": "code",
   "execution_count": 161,
   "metadata": {},
   "outputs": [
    {
     "data": {
      "text/plain": [
       "(416, 15)"
      ]
     },
     "execution_count": 161,
     "metadata": {},
     "output_type": "execute_result"
    }
   ],
   "source": [
    "#dropping the columns which we dropped for train dataset\n",
    "sub_test=sub_test.drop(columns=['ndvi_ne','ndvi_se','re_an_avg_temp_k','re_an_min_air_temp_k','re_an_max_air_temp_k','stn_diur_temp_rng_c','prec_amt_mm','re_an_dew_point_temp_k','week_start_date'])\n",
    "sub_test.shape"
   ]
  },
  {
   "cell_type": "code",
   "execution_count": 162,
   "metadata": {},
   "outputs": [],
   "source": [
    "# converting the humidity column to percentage as we did the same for train data\n",
    "sub_test['re_an_relative_hd_percent']=(sub_test['re_an_relative_hd_percent']/ 100).round(2)"
   ]
  },
  {
   "cell_type": "code",
   "execution_count": 163,
   "metadata": {},
   "outputs": [],
   "source": [
    "#Encoding vegetation variables\n",
    "sub_test.loc[sub_test['ndvi_nw']<=0.25,'sc_ndvi_nw']=0\n",
    "sub_test.loc[sub_test['ndvi_nw']>0.25,'sc_ndvi_nw']=1\n",
    "sub_test.loc[sub_test['ndvi_sw']<=0.25,'sc_ndvi_sw']=0\n",
    "sub_test.loc[sub_test['ndvi_sw']>0.25,'sc_ndvi_sw']=1"
   ]
  },
  {
   "cell_type": "code",
   "execution_count": 164,
   "metadata": {
    "scrolled": true
   },
   "outputs": [
    {
     "data": {
      "text/html": [
       "<div>\n",
       "<style scoped>\n",
       "    .dataframe tbody tr th:only-of-type {\n",
       "        vertical-align: middle;\n",
       "    }\n",
       "\n",
       "    .dataframe tbody tr th {\n",
       "        vertical-align: top;\n",
       "    }\n",
       "\n",
       "    .dataframe thead th {\n",
       "        text-align: right;\n",
       "    }\n",
       "</style>\n",
       "<table border=\"1\" class=\"dataframe\">\n",
       "  <thead>\n",
       "    <tr style=\"text-align: right;\">\n",
       "      <th></th>\n",
       "      <th>city</th>\n",
       "      <th>year</th>\n",
       "      <th>weekofyear</th>\n",
       "      <th>re_an_air_temp_k</th>\n",
       "      <th>re_an_precip_amt_kg_per_m2</th>\n",
       "      <th>re_an_relative_hd_percent</th>\n",
       "      <th>re_an_sat_precip_amt_mm</th>\n",
       "      <th>re_an_specific_hd_g_per_kg</th>\n",
       "      <th>re_an_tdtr_k</th>\n",
       "      <th>stn_avg_temp_c</th>\n",
       "      <th>stn_max_temp_c</th>\n",
       "      <th>stn_min_temp_c</th>\n",
       "      <th>stn_precip_mm</th>\n",
       "      <th>sc_ndvi_nw</th>\n",
       "      <th>sc_ndvi_sw</th>\n",
       "    </tr>\n",
       "  </thead>\n",
       "  <tbody>\n",
       "    <tr>\n",
       "      <th>0</th>\n",
       "      <td>2</td>\n",
       "      <td>21</td>\n",
       "      <td>17</td>\n",
       "      <td>298.492857</td>\n",
       "      <td>25.37</td>\n",
       "      <td>0.79</td>\n",
       "      <td>78.60</td>\n",
       "      <td>15.918571</td>\n",
       "      <td>3.128571</td>\n",
       "      <td>26.528571</td>\n",
       "      <td>33.3</td>\n",
       "      <td>21.7</td>\n",
       "      <td>75.2</td>\n",
       "      <td>0.0</td>\n",
       "      <td>0.0</td>\n",
       "    </tr>\n",
       "    <tr>\n",
       "      <th>1</th>\n",
       "      <td>2</td>\n",
       "      <td>21</td>\n",
       "      <td>18</td>\n",
       "      <td>298.475714</td>\n",
       "      <td>21.83</td>\n",
       "      <td>0.78</td>\n",
       "      <td>12.56</td>\n",
       "      <td>15.791429</td>\n",
       "      <td>2.571429</td>\n",
       "      <td>26.071429</td>\n",
       "      <td>30.0</td>\n",
       "      <td>22.2</td>\n",
       "      <td>34.3</td>\n",
       "      <td>0.0</td>\n",
       "      <td>0.0</td>\n",
       "    </tr>\n",
       "    <tr>\n",
       "      <th>2</th>\n",
       "      <td>2</td>\n",
       "      <td>21</td>\n",
       "      <td>19</td>\n",
       "      <td>299.455714</td>\n",
       "      <td>4.12</td>\n",
       "      <td>0.78</td>\n",
       "      <td>3.66</td>\n",
       "      <td>16.674286</td>\n",
       "      <td>4.428571</td>\n",
       "      <td>27.928571</td>\n",
       "      <td>32.8</td>\n",
       "      <td>22.8</td>\n",
       "      <td>3.0</td>\n",
       "      <td>0.0</td>\n",
       "      <td>0.0</td>\n",
       "    </tr>\n",
       "    <tr>\n",
       "      <th>3</th>\n",
       "      <td>2</td>\n",
       "      <td>21</td>\n",
       "      <td>20</td>\n",
       "      <td>299.690000</td>\n",
       "      <td>2.20</td>\n",
       "      <td>0.73</td>\n",
       "      <td>0.00</td>\n",
       "      <td>15.775714</td>\n",
       "      <td>4.342857</td>\n",
       "      <td>28.057143</td>\n",
       "      <td>33.3</td>\n",
       "      <td>24.4</td>\n",
       "      <td>0.3</td>\n",
       "      <td>0.0</td>\n",
       "      <td>0.0</td>\n",
       "    </tr>\n",
       "    <tr>\n",
       "      <th>4</th>\n",
       "      <td>2</td>\n",
       "      <td>21</td>\n",
       "      <td>21</td>\n",
       "      <td>299.780000</td>\n",
       "      <td>4.36</td>\n",
       "      <td>0.74</td>\n",
       "      <td>0.76</td>\n",
       "      <td>16.137143</td>\n",
       "      <td>3.542857</td>\n",
       "      <td>27.614286</td>\n",
       "      <td>33.3</td>\n",
       "      <td>23.3</td>\n",
       "      <td>84.1</td>\n",
       "      <td>0.0</td>\n",
       "      <td>0.0</td>\n",
       "    </tr>\n",
       "  </tbody>\n",
       "</table>\n",
       "</div>"
      ],
      "text/plain": [
       "   city  year  weekofyear  re_an_air_temp_k  re_an_precip_amt_kg_per_m2  \\\n",
       "0     2    21          17        298.492857                       25.37   \n",
       "1     2    21          18        298.475714                       21.83   \n",
       "2     2    21          19        299.455714                        4.12   \n",
       "3     2    21          20        299.690000                        2.20   \n",
       "4     2    21          21        299.780000                        4.36   \n",
       "\n",
       "   re_an_relative_hd_percent  re_an_sat_precip_amt_mm  \\\n",
       "0                       0.79                    78.60   \n",
       "1                       0.78                    12.56   \n",
       "2                       0.78                     3.66   \n",
       "3                       0.73                     0.00   \n",
       "4                       0.74                     0.76   \n",
       "\n",
       "   re_an_specific_hd_g_per_kg  re_an_tdtr_k  stn_avg_temp_c  stn_max_temp_c  \\\n",
       "0                   15.918571      3.128571       26.528571            33.3   \n",
       "1                   15.791429      2.571429       26.071429            30.0   \n",
       "2                   16.674286      4.428571       27.928571            32.8   \n",
       "3                   15.775714      4.342857       28.057143            33.3   \n",
       "4                   16.137143      3.542857       27.614286            33.3   \n",
       "\n",
       "   stn_min_temp_c  stn_precip_mm  sc_ndvi_nw  sc_ndvi_sw  \n",
       "0            21.7           75.2         0.0         0.0  \n",
       "1            22.2           34.3         0.0         0.0  \n",
       "2            22.8            3.0         0.0         0.0  \n",
       "3            24.4            0.3         0.0         0.0  \n",
       "4            23.3           84.1         0.0         0.0  "
      ]
     },
     "execution_count": 164,
     "metadata": {},
     "output_type": "execute_result"
    }
   ],
   "source": [
    "sub_test=sub_test.drop(columns=['ndvi_nw','ndvi_sw'])\n",
    "sub_test.head()"
   ]
  },
  {
   "cell_type": "code",
   "execution_count": 165,
   "metadata": {},
   "outputs": [],
   "source": [
    "#Scaling new test data\n",
    "sub_test.iloc[:,3:13]=sc.transform(sub_test.iloc[:,3:13])\n",
    "sub_test_np=sub_test.to_numpy()"
   ]
  },
  {
   "cell_type": "code",
   "execution_count": 166,
   "metadata": {},
   "outputs": [],
   "source": [
    "#predicting the total cases fro new test dataset using the best model i.e. linear SVR after changing the paramenters\n",
    "sub_predict=mlp_reg1.predict(sub_test_np)"
   ]
  },
  {
   "cell_type": "code",
   "execution_count": 167,
   "metadata": {},
   "outputs": [
    {
     "data": {
      "text/html": [
       "<div>\n",
       "<style scoped>\n",
       "    .dataframe tbody tr th:only-of-type {\n",
       "        vertical-align: middle;\n",
       "    }\n",
       "\n",
       "    .dataframe tbody tr th {\n",
       "        vertical-align: top;\n",
       "    }\n",
       "\n",
       "    .dataframe thead th {\n",
       "        text-align: right;\n",
       "    }\n",
       "</style>\n",
       "<table border=\"1\" class=\"dataframe\">\n",
       "  <thead>\n",
       "    <tr style=\"text-align: right;\">\n",
       "      <th></th>\n",
       "      <th>city</th>\n",
       "      <th>year</th>\n",
       "      <th>weekofyear</th>\n",
       "      <th>re_an_air_temp_k</th>\n",
       "      <th>re_an_precip_amt_kg_per_m2</th>\n",
       "      <th>re_an_relative_hd_percent</th>\n",
       "      <th>re_an_sat_precip_amt_mm</th>\n",
       "      <th>re_an_specific_hd_g_per_kg</th>\n",
       "      <th>re_an_tdtr_k</th>\n",
       "      <th>stn_avg_temp_c</th>\n",
       "      <th>stn_max_temp_c</th>\n",
       "      <th>stn_min_temp_c</th>\n",
       "      <th>stn_precip_mm</th>\n",
       "      <th>sc_ndvi_nw</th>\n",
       "      <th>sc_ndvi_sw</th>\n",
       "      <th>total_cases</th>\n",
       "    </tr>\n",
       "  </thead>\n",
       "  <tbody>\n",
       "    <tr>\n",
       "      <th>0</th>\n",
       "      <td>2</td>\n",
       "      <td>21</td>\n",
       "      <td>17</td>\n",
       "      <td>-0.083871</td>\n",
       "      <td>-0.342414</td>\n",
       "      <td>-0.480221</td>\n",
       "      <td>0.761668</td>\n",
       "      <td>-0.517545</td>\n",
       "      <td>-0.542192</td>\n",
       "      <td>-0.492810</td>\n",
       "      <td>0.421692</td>\n",
       "      <td>-0.210982</td>\n",
       "      <td>0.666266</td>\n",
       "      <td>0.0</td>\n",
       "      <td>0.0</td>\n",
       "      <td>5.592699</td>\n",
       "    </tr>\n",
       "    <tr>\n",
       "      <th>1</th>\n",
       "      <td>2</td>\n",
       "      <td>21</td>\n",
       "      <td>18</td>\n",
       "      <td>-0.096662</td>\n",
       "      <td>-0.421293</td>\n",
       "      <td>-0.616568</td>\n",
       "      <td>-0.778568</td>\n",
       "      <td>-0.600315</td>\n",
       "      <td>-0.696252</td>\n",
       "      <td>-0.853920</td>\n",
       "      <td>-1.244455</td>\n",
       "      <td>0.114287</td>\n",
       "      <td>-0.136730</td>\n",
       "      <td>0.0</td>\n",
       "      <td>0.0</td>\n",
       "      <td>5.544689</td>\n",
       "    </tr>\n",
       "    <tr>\n",
       "      <th>2</th>\n",
       "      <td>2</td>\n",
       "      <td>21</td>\n",
       "      <td>19</td>\n",
       "      <td>0.634558</td>\n",
       "      <td>-0.815910</td>\n",
       "      <td>-0.616568</td>\n",
       "      <td>-0.986141</td>\n",
       "      <td>-0.025577</td>\n",
       "      <td>-0.182720</td>\n",
       "      <td>0.613088</td>\n",
       "      <td>0.169246</td>\n",
       "      <td>0.504610</td>\n",
       "      <td>-0.751247</td>\n",
       "      <td>0.0</td>\n",
       "      <td>0.0</td>\n",
       "      <td>5.620866</td>\n",
       "    </tr>\n",
       "    <tr>\n",
       "      <th>3</th>\n",
       "      <td>2</td>\n",
       "      <td>21</td>\n",
       "      <td>20</td>\n",
       "      <td>0.809369</td>\n",
       "      <td>-0.858692</td>\n",
       "      <td>-1.298300</td>\n",
       "      <td>-1.071502</td>\n",
       "      <td>-0.610545</td>\n",
       "      <td>-0.206422</td>\n",
       "      <td>0.714651</td>\n",
       "      <td>0.421692</td>\n",
       "      <td>1.545471</td>\n",
       "      <td>-0.804256</td>\n",
       "      <td>0.0</td>\n",
       "      <td>0.0</td>\n",
       "      <td>7.200822</td>\n",
       "    </tr>\n",
       "    <tr>\n",
       "      <th>4</th>\n",
       "      <td>2</td>\n",
       "      <td>21</td>\n",
       "      <td>21</td>\n",
       "      <td>0.876522</td>\n",
       "      <td>-0.810563</td>\n",
       "      <td>-1.161954</td>\n",
       "      <td>-1.053777</td>\n",
       "      <td>-0.375256</td>\n",
       "      <td>-0.427635</td>\n",
       "      <td>0.364825</td>\n",
       "      <td>0.421692</td>\n",
       "      <td>0.829879</td>\n",
       "      <td>0.841001</td>\n",
       "      <td>0.0</td>\n",
       "      <td>0.0</td>\n",
       "      <td>6.410383</td>\n",
       "    </tr>\n",
       "  </tbody>\n",
       "</table>\n",
       "</div>"
      ],
      "text/plain": [
       "   city  year  weekofyear  re_an_air_temp_k  re_an_precip_amt_kg_per_m2  \\\n",
       "0     2    21          17         -0.083871                   -0.342414   \n",
       "1     2    21          18         -0.096662                   -0.421293   \n",
       "2     2    21          19          0.634558                   -0.815910   \n",
       "3     2    21          20          0.809369                   -0.858692   \n",
       "4     2    21          21          0.876522                   -0.810563   \n",
       "\n",
       "   re_an_relative_hd_percent  re_an_sat_precip_amt_mm  \\\n",
       "0                  -0.480221                 0.761668   \n",
       "1                  -0.616568                -0.778568   \n",
       "2                  -0.616568                -0.986141   \n",
       "3                  -1.298300                -1.071502   \n",
       "4                  -1.161954                -1.053777   \n",
       "\n",
       "   re_an_specific_hd_g_per_kg  re_an_tdtr_k  stn_avg_temp_c  stn_max_temp_c  \\\n",
       "0                   -0.517545     -0.542192       -0.492810        0.421692   \n",
       "1                   -0.600315     -0.696252       -0.853920       -1.244455   \n",
       "2                   -0.025577     -0.182720        0.613088        0.169246   \n",
       "3                   -0.610545     -0.206422        0.714651        0.421692   \n",
       "4                   -0.375256     -0.427635        0.364825        0.421692   \n",
       "\n",
       "   stn_min_temp_c  stn_precip_mm  sc_ndvi_nw  sc_ndvi_sw  total_cases  \n",
       "0       -0.210982       0.666266         0.0         0.0     5.592699  \n",
       "1        0.114287      -0.136730         0.0         0.0     5.544689  \n",
       "2        0.504610      -0.751247         0.0         0.0     5.620866  \n",
       "3        1.545471      -0.804256         0.0         0.0     7.200822  \n",
       "4        0.829879       0.841001         0.0         0.0     6.410383  "
      ]
     },
     "execution_count": 167,
     "metadata": {},
     "output_type": "execute_result"
    }
   ],
   "source": [
    "sub_test['total_cases']=sub_predict\n",
    "sub_test.head()"
   ]
  },
  {
   "cell_type": "code",
   "execution_count": 168,
   "metadata": {},
   "outputs": [],
   "source": [
    "submission_file=pd.read_csv(\"dengue_features_test.csv\")\n",
    "submission_file=submission_file.fillna(method='ffill')"
   ]
  },
  {
   "cell_type": "code",
   "execution_count": 169,
   "metadata": {},
   "outputs": [],
   "source": [
    "submission_file['total_cases']=sub_predict\n",
    "submission_file['total_cases']=submission_file['total_cases'].astype(int)\n",
    "submission_file=submission_file[['city','year','weekofyear','total_cases']]"
   ]
  },
  {
   "cell_type": "code",
   "execution_count": 170,
   "metadata": {},
   "outputs": [],
   "source": [
    "submission_file.to_csv(r'C:\\Users\\18132\\Desktop\\My Docs\\DSP\\Ass_4\\submission_file.csv', index = False)"
   ]
  },
  {
   "cell_type": "markdown",
   "metadata": {},
   "source": [
    "**5.Add a new column called 'above_average' with value 1 or 0. 1 if the total_cases > median of total_cases**"
   ]
  },
  {
   "cell_type": "code",
   "execution_count": 93,
   "metadata": {},
   "outputs": [],
   "source": [
    "df_class=df_sel\n",
    "df_class.loc[df_class['total_cases']<=np.median(df_class['total_cases']),'above_average']=0\n",
    "df_class.loc[df_class['total_cases']>np.median(df_class['total_cases']),'above_average']=1"
   ]
  },
  {
   "cell_type": "code",
   "execution_count": 95,
   "metadata": {},
   "outputs": [
    {
     "data": {
      "text/plain": [
       "10.0"
      ]
     },
     "execution_count": 95,
     "metadata": {},
     "output_type": "execute_result"
    }
   ],
   "source": [
    "np.median(df_class['total_cases'])"
   ]
  },
  {
   "cell_type": "code",
   "execution_count": 96,
   "metadata": {},
   "outputs": [
    {
     "data": {
      "text/html": [
       "<div>\n",
       "<style scoped>\n",
       "    .dataframe tbody tr th:only-of-type {\n",
       "        vertical-align: middle;\n",
       "    }\n",
       "\n",
       "    .dataframe tbody tr th {\n",
       "        vertical-align: top;\n",
       "    }\n",
       "\n",
       "    .dataframe thead th {\n",
       "        text-align: right;\n",
       "    }\n",
       "</style>\n",
       "<table border=\"1\" class=\"dataframe\">\n",
       "  <thead>\n",
       "    <tr style=\"text-align: right;\">\n",
       "      <th></th>\n",
       "      <th>city</th>\n",
       "      <th>year</th>\n",
       "      <th>weekofyear</th>\n",
       "      <th>re_an_air_temp_k</th>\n",
       "      <th>re_an_precip_amt_kg_per_m2</th>\n",
       "      <th>re_an_relative_hd_percent</th>\n",
       "      <th>re_an_sat_precip_amt_mm</th>\n",
       "      <th>re_an_specific_hd_g_per_kg</th>\n",
       "      <th>re_an_tdtr_k</th>\n",
       "      <th>stn_avg_temp_c</th>\n",
       "      <th>stn_max_temp_c</th>\n",
       "      <th>stn_min_temp_c</th>\n",
       "      <th>stn_precip_mm</th>\n",
       "      <th>total_cases</th>\n",
       "      <th>sc_ndvi_nw</th>\n",
       "      <th>sc_ndvi_sw</th>\n",
       "      <th>above_average</th>\n",
       "    </tr>\n",
       "  </thead>\n",
       "  <tbody>\n",
       "    <tr>\n",
       "      <th>10</th>\n",
       "      <td>sj</td>\n",
       "      <td>1990</td>\n",
       "      <td>28</td>\n",
       "      <td>299.512857</td>\n",
       "      <td>43.72</td>\n",
       "      <td>0.81</td>\n",
       "      <td>22.27</td>\n",
       "      <td>17.418571</td>\n",
       "      <td>2.157143</td>\n",
       "      <td>27.557143</td>\n",
       "      <td>31.7</td>\n",
       "      <td>21.7</td>\n",
       "      <td>63.7</td>\n",
       "      <td>8</td>\n",
       "      <td>0.0</td>\n",
       "      <td>0.0</td>\n",
       "      <td>0.0</td>\n",
       "    </tr>\n",
       "    <tr>\n",
       "      <th>11</th>\n",
       "      <td>sj</td>\n",
       "      <td>1990</td>\n",
       "      <td>29</td>\n",
       "      <td>299.667143</td>\n",
       "      <td>40.90</td>\n",
       "      <td>0.82</td>\n",
       "      <td>59.17</td>\n",
       "      <td>17.737143</td>\n",
       "      <td>2.414286</td>\n",
       "      <td>28.128571</td>\n",
       "      <td>32.8</td>\n",
       "      <td>23.9</td>\n",
       "      <td>12.2</td>\n",
       "      <td>2</td>\n",
       "      <td>0.0</td>\n",
       "      <td>1.0</td>\n",
       "      <td>0.0</td>\n",
       "    </tr>\n",
       "    <tr>\n",
       "      <th>12</th>\n",
       "      <td>sj</td>\n",
       "      <td>1990</td>\n",
       "      <td>30</td>\n",
       "      <td>299.558571</td>\n",
       "      <td>42.53</td>\n",
       "      <td>0.81</td>\n",
       "      <td>16.48</td>\n",
       "      <td>17.341429</td>\n",
       "      <td>2.071429</td>\n",
       "      <td>28.114286</td>\n",
       "      <td>31.7</td>\n",
       "      <td>22.8</td>\n",
       "      <td>32.6</td>\n",
       "      <td>6</td>\n",
       "      <td>0.0</td>\n",
       "      <td>0.0</td>\n",
       "      <td>0.0</td>\n",
       "    </tr>\n",
       "    <tr>\n",
       "      <th>13</th>\n",
       "      <td>sj</td>\n",
       "      <td>1990</td>\n",
       "      <td>31</td>\n",
       "      <td>299.862857</td>\n",
       "      <td>34.60</td>\n",
       "      <td>0.81</td>\n",
       "      <td>32.66</td>\n",
       "      <td>17.594286</td>\n",
       "      <td>2.585714</td>\n",
       "      <td>28.242857</td>\n",
       "      <td>34.4</td>\n",
       "      <td>22.8</td>\n",
       "      <td>37.6</td>\n",
       "      <td>17</td>\n",
       "      <td>0.0</td>\n",
       "      <td>1.0</td>\n",
       "      <td>1.0</td>\n",
       "    </tr>\n",
       "    <tr>\n",
       "      <th>14</th>\n",
       "      <td>sj</td>\n",
       "      <td>1990</td>\n",
       "      <td>32</td>\n",
       "      <td>300.391429</td>\n",
       "      <td>20.00</td>\n",
       "      <td>0.80</td>\n",
       "      <td>28.80</td>\n",
       "      <td>17.950000</td>\n",
       "      <td>2.328571</td>\n",
       "      <td>28.200000</td>\n",
       "      <td>33.3</td>\n",
       "      <td>23.3</td>\n",
       "      <td>11.4</td>\n",
       "      <td>23</td>\n",
       "      <td>0.0</td>\n",
       "      <td>0.0</td>\n",
       "      <td>1.0</td>\n",
       "    </tr>\n",
       "    <tr>\n",
       "      <th>15</th>\n",
       "      <td>sj</td>\n",
       "      <td>1990</td>\n",
       "      <td>33</td>\n",
       "      <td>299.958571</td>\n",
       "      <td>101.90</td>\n",
       "      <td>0.84</td>\n",
       "      <td>90.75</td>\n",
       "      <td>18.515714</td>\n",
       "      <td>1.857143</td>\n",
       "      <td>28.042857</td>\n",
       "      <td>32.8</td>\n",
       "      <td>22.8</td>\n",
       "      <td>44.7</td>\n",
       "      <td>13</td>\n",
       "      <td>0.0</td>\n",
       "      <td>0.0</td>\n",
       "      <td>1.0</td>\n",
       "    </tr>\n",
       "  </tbody>\n",
       "</table>\n",
       "</div>"
      ],
      "text/plain": [
       "   city  year  weekofyear  re_an_air_temp_k  re_an_precip_amt_kg_per_m2  \\\n",
       "10   sj  1990          28        299.512857                       43.72   \n",
       "11   sj  1990          29        299.667143                       40.90   \n",
       "12   sj  1990          30        299.558571                       42.53   \n",
       "13   sj  1990          31        299.862857                       34.60   \n",
       "14   sj  1990          32        300.391429                       20.00   \n",
       "15   sj  1990          33        299.958571                      101.90   \n",
       "\n",
       "    re_an_relative_hd_percent  re_an_sat_precip_amt_mm  \\\n",
       "10                       0.81                    22.27   \n",
       "11                       0.82                    59.17   \n",
       "12                       0.81                    16.48   \n",
       "13                       0.81                    32.66   \n",
       "14                       0.80                    28.80   \n",
       "15                       0.84                    90.75   \n",
       "\n",
       "    re_an_specific_hd_g_per_kg  re_an_tdtr_k  stn_avg_temp_c  stn_max_temp_c  \\\n",
       "10                   17.418571      2.157143       27.557143            31.7   \n",
       "11                   17.737143      2.414286       28.128571            32.8   \n",
       "12                   17.341429      2.071429       28.114286            31.7   \n",
       "13                   17.594286      2.585714       28.242857            34.4   \n",
       "14                   17.950000      2.328571       28.200000            33.3   \n",
       "15                   18.515714      1.857143       28.042857            32.8   \n",
       "\n",
       "    stn_min_temp_c  stn_precip_mm  total_cases  sc_ndvi_nw  sc_ndvi_sw  \\\n",
       "10            21.7           63.7            8         0.0         0.0   \n",
       "11            23.9           12.2            2         0.0         1.0   \n",
       "12            22.8           32.6            6         0.0         0.0   \n",
       "13            22.8           37.6           17         0.0         1.0   \n",
       "14            23.3           11.4           23         0.0         0.0   \n",
       "15            22.8           44.7           13         0.0         0.0   \n",
       "\n",
       "    above_average  \n",
       "10            0.0  \n",
       "11            0.0  \n",
       "12            0.0  \n",
       "13            1.0  \n",
       "14            1.0  \n",
       "15            1.0  "
      ]
     },
     "execution_count": 96,
     "metadata": {},
     "output_type": "execute_result"
    }
   ],
   "source": [
    "df_class.loc[10:15,:]"
   ]
  },
  {
   "cell_type": "code",
   "execution_count": 97,
   "metadata": {},
   "outputs": [],
   "source": [
    "df_class=df_class.drop(columns=['total_cases'])"
   ]
  },
  {
   "cell_type": "markdown",
   "metadata": {},
   "source": [
    "**6. Build a Neural Network MLP Classifier on the 'above_average' column with 80/20 train/test split**"
   ]
  },
  {
   "cell_type": "code",
   "execution_count": 99,
   "metadata": {},
   "outputs": [
    {
     "name": "stdout",
     "output_type": "stream",
     "text": [
      "(1065, 16)\n"
     ]
    },
    {
     "data": {
      "text/plain": [
       "(267, 16)"
      ]
     },
     "execution_count": 99,
     "metadata": {},
     "output_type": "execute_result"
    }
   ],
   "source": [
    "#Split generation\n",
    "train_class,test_class= train_test_split(df_class,test_size=0.2)\n",
    "print(train_class.shape)\n",
    "test_class.shape"
   ]
  },
  {
   "cell_type": "code",
   "execution_count": 100,
   "metadata": {},
   "outputs": [
    {
     "name": "stderr",
     "output_type": "stream",
     "text": [
      "C:\\Users\\18132\\Anaconda3\\lib\\site-packages\\ipykernel_launcher.py:2: SettingWithCopyWarning: \n",
      "A value is trying to be set on a copy of a slice from a DataFrame.\n",
      "Try using .loc[row_indexer,col_indexer] = value instead\n",
      "\n",
      "See the caveats in the documentation: http://pandas.pydata.org/pandas-docs/stable/indexing.html#indexing-view-versus-copy\n",
      "  \n",
      "C:\\Users\\18132\\Anaconda3\\lib\\site-packages\\ipykernel_launcher.py:3: SettingWithCopyWarning: \n",
      "A value is trying to be set on a copy of a slice from a DataFrame.\n",
      "Try using .loc[row_indexer,col_indexer] = value instead\n",
      "\n",
      "See the caveats in the documentation: http://pandas.pydata.org/pandas-docs/stable/indexing.html#indexing-view-versus-copy\n",
      "  This is separate from the ipykernel package so we can avoid doing imports until\n",
      "C:\\Users\\18132\\Anaconda3\\lib\\site-packages\\ipykernel_launcher.py:4: SettingWithCopyWarning: \n",
      "A value is trying to be set on a copy of a slice from a DataFrame.\n",
      "Try using .loc[row_indexer,col_indexer] = value instead\n",
      "\n",
      "See the caveats in the documentation: http://pandas.pydata.org/pandas-docs/stable/indexing.html#indexing-view-versus-copy\n",
      "  after removing the cwd from sys.path.\n",
      "C:\\Users\\18132\\Anaconda3\\lib\\site-packages\\ipykernel_launcher.py:5: SettingWithCopyWarning: \n",
      "A value is trying to be set on a copy of a slice from a DataFrame.\n",
      "Try using .loc[row_indexer,col_indexer] = value instead\n",
      "\n",
      "See the caveats in the documentation: http://pandas.pydata.org/pandas-docs/stable/indexing.html#indexing-view-versus-copy\n",
      "  \"\"\"\n",
      "C:\\Users\\18132\\Anaconda3\\lib\\site-packages\\ipykernel_launcher.py:6: SettingWithCopyWarning: \n",
      "A value is trying to be set on a copy of a slice from a DataFrame.\n",
      "Try using .loc[row_indexer,col_indexer] = value instead\n",
      "\n",
      "See the caveats in the documentation: http://pandas.pydata.org/pandas-docs/stable/indexing.html#indexing-view-versus-copy\n",
      "  \n",
      "C:\\Users\\18132\\Anaconda3\\lib\\site-packages\\ipykernel_launcher.py:7: SettingWithCopyWarning: \n",
      "A value is trying to be set on a copy of a slice from a DataFrame.\n",
      "Try using .loc[row_indexer,col_indexer] = value instead\n",
      "\n",
      "See the caveats in the documentation: http://pandas.pydata.org/pandas-docs/stable/indexing.html#indexing-view-versus-copy\n",
      "  import sys\n"
     ]
    }
   ],
   "source": [
    "#Encoding the categorical variables\n",
    "le1 = preprocessing.LabelEncoder()\n",
    "train_class['year']=le1.fit_transform(train_class['year'])\n",
    "test_class['year']=le1.transform(test_class['year'])\n",
    "train_class['city']=le1.fit_transform(train_class['city'])\n",
    "test_class['city']=le1.transform(test_class['city'])\n",
    "train_class['weekofyear']=le1.fit_transform(train_class['weekofyear'])\n",
    "test_class['weekofyear']=le1.transform(test_class['weekofyear'])"
   ]
  },
  {
   "cell_type": "code",
   "execution_count": 101,
   "metadata": {},
   "outputs": [
    {
     "data": {
      "text/html": [
       "<div>\n",
       "<style scoped>\n",
       "    .dataframe tbody tr th:only-of-type {\n",
       "        vertical-align: middle;\n",
       "    }\n",
       "\n",
       "    .dataframe tbody tr th {\n",
       "        vertical-align: top;\n",
       "    }\n",
       "\n",
       "    .dataframe thead th {\n",
       "        text-align: right;\n",
       "    }\n",
       "</style>\n",
       "<table border=\"1\" class=\"dataframe\">\n",
       "  <thead>\n",
       "    <tr style=\"text-align: right;\">\n",
       "      <th></th>\n",
       "      <th>city</th>\n",
       "      <th>year</th>\n",
       "      <th>weekofyear</th>\n",
       "      <th>re_an_air_temp_k</th>\n",
       "      <th>re_an_precip_amt_kg_per_m2</th>\n",
       "      <th>re_an_relative_hd_percent</th>\n",
       "      <th>re_an_sat_precip_amt_mm</th>\n",
       "      <th>re_an_specific_hd_g_per_kg</th>\n",
       "      <th>re_an_tdtr_k</th>\n",
       "      <th>stn_avg_temp_c</th>\n",
       "      <th>stn_max_temp_c</th>\n",
       "      <th>stn_min_temp_c</th>\n",
       "      <th>stn_precip_mm</th>\n",
       "      <th>sc_ndvi_nw</th>\n",
       "      <th>sc_ndvi_sw</th>\n",
       "      <th>above_average</th>\n",
       "    </tr>\n",
       "  </thead>\n",
       "  <tbody>\n",
       "    <tr>\n",
       "      <th>1327</th>\n",
       "      <td>0</td>\n",
       "      <td>18</td>\n",
       "      <td>1</td>\n",
       "      <td>296.095714</td>\n",
       "      <td>62.61</td>\n",
       "      <td>0.95</td>\n",
       "      <td>71.84</td>\n",
       "      <td>16.681429</td>\n",
       "      <td>5.100000</td>\n",
       "      <td>25.800000</td>\n",
       "      <td>31.4</td>\n",
       "      <td>22.6</td>\n",
       "      <td>104.4</td>\n",
       "      <td>1.0</td>\n",
       "      <td>1.0</td>\n",
       "      <td>1.0</td>\n",
       "    </tr>\n",
       "    <tr>\n",
       "      <th>638</th>\n",
       "      <td>1</td>\n",
       "      <td>12</td>\n",
       "      <td>31</td>\n",
       "      <td>301.002857</td>\n",
       "      <td>9.36</td>\n",
       "      <td>0.78</td>\n",
       "      <td>39.52</td>\n",
       "      <td>18.201429</td>\n",
       "      <td>3.514286</td>\n",
       "      <td>28.471429</td>\n",
       "      <td>32.2</td>\n",
       "      <td>25.0</td>\n",
       "      <td>3.6</td>\n",
       "      <td>0.0</td>\n",
       "      <td>1.0</td>\n",
       "      <td>0.0</td>\n",
       "    </tr>\n",
       "    <tr>\n",
       "      <th>559</th>\n",
       "      <td>1</td>\n",
       "      <td>11</td>\n",
       "      <td>4</td>\n",
       "      <td>297.972857</td>\n",
       "      <td>32.36</td>\n",
       "      <td>0.79</td>\n",
       "      <td>23.78</td>\n",
       "      <td>15.378571</td>\n",
       "      <td>2.742857</td>\n",
       "      <td>25.242857</td>\n",
       "      <td>30.6</td>\n",
       "      <td>21.1</td>\n",
       "      <td>21.6</td>\n",
       "      <td>0.0</td>\n",
       "      <td>0.0</td>\n",
       "      <td>1.0</td>\n",
       "    </tr>\n",
       "    <tr>\n",
       "      <th>665</th>\n",
       "      <td>1</td>\n",
       "      <td>13</td>\n",
       "      <td>6</td>\n",
       "      <td>298.370000</td>\n",
       "      <td>33.60</td>\n",
       "      <td>0.80</td>\n",
       "      <td>68.17</td>\n",
       "      <td>15.914286</td>\n",
       "      <td>2.328571</td>\n",
       "      <td>25.400000</td>\n",
       "      <td>29.4</td>\n",
       "      <td>21.7</td>\n",
       "      <td>37.1</td>\n",
       "      <td>0.0</td>\n",
       "      <td>0.0</td>\n",
       "      <td>0.0</td>\n",
       "    </tr>\n",
       "    <tr>\n",
       "      <th>1350</th>\n",
       "      <td>0</td>\n",
       "      <td>18</td>\n",
       "      <td>24</td>\n",
       "      <td>296.742857</td>\n",
       "      <td>57.87</td>\n",
       "      <td>0.96</td>\n",
       "      <td>111.18</td>\n",
       "      <td>17.447143</td>\n",
       "      <td>6.957143</td>\n",
       "      <td>26.900000</td>\n",
       "      <td>31.1</td>\n",
       "      <td>21.0</td>\n",
       "      <td>79.8</td>\n",
       "      <td>0.0</td>\n",
       "      <td>0.0</td>\n",
       "      <td>0.0</td>\n",
       "    </tr>\n",
       "  </tbody>\n",
       "</table>\n",
       "</div>"
      ],
      "text/plain": [
       "      city  year  weekofyear  re_an_air_temp_k  re_an_precip_amt_kg_per_m2  \\\n",
       "1327     0    18           1        296.095714                       62.61   \n",
       "638      1    12          31        301.002857                        9.36   \n",
       "559      1    11           4        297.972857                       32.36   \n",
       "665      1    13           6        298.370000                       33.60   \n",
       "1350     0    18          24        296.742857                       57.87   \n",
       "\n",
       "      re_an_relative_hd_percent  re_an_sat_precip_amt_mm  \\\n",
       "1327                       0.95                    71.84   \n",
       "638                        0.78                    39.52   \n",
       "559                        0.79                    23.78   \n",
       "665                        0.80                    68.17   \n",
       "1350                       0.96                   111.18   \n",
       "\n",
       "      re_an_specific_hd_g_per_kg  re_an_tdtr_k  stn_avg_temp_c  \\\n",
       "1327                   16.681429      5.100000       25.800000   \n",
       "638                    18.201429      3.514286       28.471429   \n",
       "559                    15.378571      2.742857       25.242857   \n",
       "665                    15.914286      2.328571       25.400000   \n",
       "1350                   17.447143      6.957143       26.900000   \n",
       "\n",
       "      stn_max_temp_c  stn_min_temp_c  stn_precip_mm  sc_ndvi_nw  sc_ndvi_sw  \\\n",
       "1327            31.4            22.6          104.4         1.0         1.0   \n",
       "638             32.2            25.0            3.6         0.0         1.0   \n",
       "559             30.6            21.1           21.6         0.0         0.0   \n",
       "665             29.4            21.7           37.1         0.0         0.0   \n",
       "1350            31.1            21.0           79.8         0.0         0.0   \n",
       "\n",
       "      above_average  \n",
       "1327            1.0  \n",
       "638             0.0  \n",
       "559             1.0  \n",
       "665             0.0  \n",
       "1350            0.0  "
      ]
     },
     "execution_count": 101,
     "metadata": {},
     "output_type": "execute_result"
    }
   ],
   "source": [
    "train_class.head()"
   ]
  },
  {
   "cell_type": "code",
   "execution_count": 102,
   "metadata": {},
   "outputs": [
    {
     "data": {
      "text/html": [
       "<div>\n",
       "<style scoped>\n",
       "    .dataframe tbody tr th:only-of-type {\n",
       "        vertical-align: middle;\n",
       "    }\n",
       "\n",
       "    .dataframe tbody tr th {\n",
       "        vertical-align: top;\n",
       "    }\n",
       "\n",
       "    .dataframe thead th {\n",
       "        text-align: right;\n",
       "    }\n",
       "</style>\n",
       "<table border=\"1\" class=\"dataframe\">\n",
       "  <thead>\n",
       "    <tr style=\"text-align: right;\">\n",
       "      <th></th>\n",
       "      <th>city</th>\n",
       "      <th>year</th>\n",
       "      <th>weekofyear</th>\n",
       "      <th>re_an_air_temp_k</th>\n",
       "      <th>re_an_precip_amt_kg_per_m2</th>\n",
       "      <th>re_an_relative_hd_percent</th>\n",
       "      <th>re_an_sat_precip_amt_mm</th>\n",
       "      <th>re_an_specific_hd_g_per_kg</th>\n",
       "      <th>re_an_tdtr_k</th>\n",
       "      <th>stn_avg_temp_c</th>\n",
       "      <th>stn_max_temp_c</th>\n",
       "      <th>stn_min_temp_c</th>\n",
       "      <th>stn_precip_mm</th>\n",
       "      <th>sc_ndvi_nw</th>\n",
       "      <th>sc_ndvi_sw</th>\n",
       "      <th>above_average</th>\n",
       "    </tr>\n",
       "  </thead>\n",
       "  <tbody>\n",
       "    <tr>\n",
       "      <th>555</th>\n",
       "      <td>1</td>\n",
       "      <td>11</td>\n",
       "      <td>0</td>\n",
       "      <td>298.477143</td>\n",
       "      <td>1.30</td>\n",
       "      <td>0.77</td>\n",
       "      <td>0.00</td>\n",
       "      <td>15.444286</td>\n",
       "      <td>3.285714</td>\n",
       "      <td>25.128571</td>\n",
       "      <td>30.0</td>\n",
       "      <td>20.6</td>\n",
       "      <td>1.9</td>\n",
       "      <td>0.0</td>\n",
       "      <td>0.0</td>\n",
       "      <td>1.0</td>\n",
       "    </tr>\n",
       "    <tr>\n",
       "      <th>188</th>\n",
       "      <td>1</td>\n",
       "      <td>3</td>\n",
       "      <td>48</td>\n",
       "      <td>298.218571</td>\n",
       "      <td>43.40</td>\n",
       "      <td>0.80</td>\n",
       "      <td>5.29</td>\n",
       "      <td>15.932857</td>\n",
       "      <td>2.357143</td>\n",
       "      <td>26.528571</td>\n",
       "      <td>30.6</td>\n",
       "      <td>21.1</td>\n",
       "      <td>20.8</td>\n",
       "      <td>0.0</td>\n",
       "      <td>0.0</td>\n",
       "      <td>1.0</td>\n",
       "    </tr>\n",
       "    <tr>\n",
       "      <th>385</th>\n",
       "      <td>1</td>\n",
       "      <td>7</td>\n",
       "      <td>38</td>\n",
       "      <td>300.420000</td>\n",
       "      <td>39.60</td>\n",
       "      <td>0.79</td>\n",
       "      <td>13.18</td>\n",
       "      <td>17.828571</td>\n",
       "      <td>2.400000</td>\n",
       "      <td>28.400000</td>\n",
       "      <td>32.2</td>\n",
       "      <td>23.9</td>\n",
       "      <td>25.4</td>\n",
       "      <td>0.0</td>\n",
       "      <td>0.0</td>\n",
       "      <td>1.0</td>\n",
       "    </tr>\n",
       "    <tr>\n",
       "      <th>219</th>\n",
       "      <td>1</td>\n",
       "      <td>4</td>\n",
       "      <td>27</td>\n",
       "      <td>299.481429</td>\n",
       "      <td>18.52</td>\n",
       "      <td>0.77</td>\n",
       "      <td>9.77</td>\n",
       "      <td>16.502857</td>\n",
       "      <td>2.128571</td>\n",
       "      <td>28.171429</td>\n",
       "      <td>32.2</td>\n",
       "      <td>23.9</td>\n",
       "      <td>28.7</td>\n",
       "      <td>0.0</td>\n",
       "      <td>0.0</td>\n",
       "      <td>1.0</td>\n",
       "    </tr>\n",
       "    <tr>\n",
       "      <th>1388</th>\n",
       "      <td>0</td>\n",
       "      <td>19</td>\n",
       "      <td>10</td>\n",
       "      <td>297.058571</td>\n",
       "      <td>108.83</td>\n",
       "      <td>0.98</td>\n",
       "      <td>97.80</td>\n",
       "      <td>18.352857</td>\n",
       "      <td>6.028571</td>\n",
       "      <td>27.300000</td>\n",
       "      <td>33.8</td>\n",
       "      <td>21.0</td>\n",
       "      <td>0.0</td>\n",
       "      <td>0.0</td>\n",
       "      <td>0.0</td>\n",
       "      <td>1.0</td>\n",
       "    </tr>\n",
       "  </tbody>\n",
       "</table>\n",
       "</div>"
      ],
      "text/plain": [
       "      city  year  weekofyear  re_an_air_temp_k  re_an_precip_amt_kg_per_m2  \\\n",
       "555      1    11           0        298.477143                        1.30   \n",
       "188      1     3          48        298.218571                       43.40   \n",
       "385      1     7          38        300.420000                       39.60   \n",
       "219      1     4          27        299.481429                       18.52   \n",
       "1388     0    19          10        297.058571                      108.83   \n",
       "\n",
       "      re_an_relative_hd_percent  re_an_sat_precip_amt_mm  \\\n",
       "555                        0.77                     0.00   \n",
       "188                        0.80                     5.29   \n",
       "385                        0.79                    13.18   \n",
       "219                        0.77                     9.77   \n",
       "1388                       0.98                    97.80   \n",
       "\n",
       "      re_an_specific_hd_g_per_kg  re_an_tdtr_k  stn_avg_temp_c  \\\n",
       "555                    15.444286      3.285714       25.128571   \n",
       "188                    15.932857      2.357143       26.528571   \n",
       "385                    17.828571      2.400000       28.400000   \n",
       "219                    16.502857      2.128571       28.171429   \n",
       "1388                   18.352857      6.028571       27.300000   \n",
       "\n",
       "      stn_max_temp_c  stn_min_temp_c  stn_precip_mm  sc_ndvi_nw  sc_ndvi_sw  \\\n",
       "555             30.0            20.6            1.9         0.0         0.0   \n",
       "188             30.6            21.1           20.8         0.0         0.0   \n",
       "385             32.2            23.9           25.4         0.0         0.0   \n",
       "219             32.2            23.9           28.7         0.0         0.0   \n",
       "1388            33.8            21.0            0.0         0.0         0.0   \n",
       "\n",
       "      above_average  \n",
       "555             1.0  \n",
       "188             1.0  \n",
       "385             1.0  \n",
       "219             1.0  \n",
       "1388            1.0  "
      ]
     },
     "execution_count": 102,
     "metadata": {},
     "output_type": "execute_result"
    }
   ],
   "source": [
    "test_class.head()"
   ]
  },
  {
   "cell_type": "code",
   "execution_count": 103,
   "metadata": {},
   "outputs": [],
   "source": [
    "#Creating independent and dependent variables\n",
    "X_train_class=train_class.drop(columns=['above_average'])\n",
    "y_train_class=train_class['above_average']\n",
    "X_test_class=test_class.drop(columns=['above_average'])\n",
    "y_test_class=test_class['above_average']"
   ]
  },
  {
   "cell_type": "code",
   "execution_count": 105,
   "metadata": {},
   "outputs": [],
   "source": [
    "#Scaling the variables for model\n",
    "sc1=StandardScaler()\n",
    "X_train_class.iloc[:,3:13]=sc1.fit_transform(X_train_class.iloc[:,3:13])\n",
    "X_test_class.iloc[:,3:13]=sc1.transform(X_test_class.iloc[:,3:13])"
   ]
  },
  {
   "cell_type": "code",
   "execution_count": 106,
   "metadata": {},
   "outputs": [],
   "source": [
    "X_train_cnp=X_train_class.to_numpy()\n",
    "X_test_cnp=X_test_class.to_numpy()\n",
    "y_train_cnp=y_train_class.to_numpy()\n",
    "y_test_cnp=y_test_class.to_numpy()"
   ]
  },
  {
   "cell_type": "code",
   "execution_count": 108,
   "metadata": {},
   "outputs": [
    {
     "name": "stderr",
     "output_type": "stream",
     "text": [
      "C:\\Users\\18132\\Anaconda3\\lib\\site-packages\\sklearn\\neural_network\\multilayer_perceptron.py:566: ConvergenceWarning: Stochastic Optimizer: Maximum iterations (200) reached and the optimization hasn't converged yet.\n",
      "  % self.max_iter, ConvergenceWarning)\n"
     ]
    },
    {
     "data": {
      "text/plain": [
       "MLPClassifier(activation='relu', alpha=0.0001, batch_size='auto', beta_1=0.9,\n",
       "              beta_2=0.999, early_stopping=False, epsilon=1e-08,\n",
       "              hidden_layer_sizes=(100,), learning_rate='constant',\n",
       "              learning_rate_init=0.001, max_iter=200, momentum=0.9,\n",
       "              n_iter_no_change=10, nesterovs_momentum=True, power_t=0.5,\n",
       "              random_state=None, shuffle=True, solver='adam', tol=0.0001,\n",
       "              validation_fraction=0.1, verbose=False, warm_start=False)"
      ]
     },
     "execution_count": 108,
     "metadata": {},
     "output_type": "execute_result"
    }
   ],
   "source": [
    "#Default settings create 1 hidden layer with 100 neurons\n",
    "#look at MLPClassifier documentation in sklearn to see which parameters can be modified\n",
    "mlp_clf = MLPClassifier(hidden_layer_sizes=(100,))\n",
    "mlp_clf.fit(X_train_cnp, y_train_cnp)"
   ]
  },
  {
   "cell_type": "code",
   "execution_count": 109,
   "metadata": {},
   "outputs": [],
   "source": [
    "predict_class1 = mlp_clf.predict(X_test_cnp)"
   ]
  },
  {
   "cell_type": "code",
   "execution_count": 112,
   "metadata": {},
   "outputs": [
    {
     "data": {
      "text/plain": [
       "array([[101,  32],\n",
       "       [ 26, 108]], dtype=int64)"
      ]
     },
     "execution_count": 112,
     "metadata": {},
     "output_type": "execute_result"
    }
   ],
   "source": [
    "#Confusion matrix for first MLP\n",
    "confusion_matrix(y_test_cnp, predict_class1)"
   ]
  },
  {
   "cell_type": "code",
   "execution_count": 175,
   "metadata": {},
   "outputs": [
    {
     "data": {
      "text/plain": [
       "1.0    134\n",
       "0.0    133\n",
       "Name: above_average, dtype: int64"
      ]
     },
     "execution_count": 175,
     "metadata": {},
     "output_type": "execute_result"
    }
   ],
   "source": [
    "y_test_class.value_counts()"
   ]
  },
  {
   "cell_type": "markdown",
   "metadata": {},
   "source": [
    "Class:\n",
    "0: Number of cases less than or equal to 10 i.e. median of total cases of dengue\n",
    "\n",
    "1: Number of cases more than to 10 i.e. median of total cases of dengue\n",
    "\n",
    "According to above confusion matrix:\n",
    "\n",
    "It has predicted 0 class correctly 101 times nad wrong 32 times\n",
    "\n",
    "It has predicted 1 class correctly 108 times and wrong 26 times"
   ]
  },
  {
   "cell_type": "code",
   "execution_count": 130,
   "metadata": {},
   "outputs": [
    {
     "name": "stderr",
     "output_type": "stream",
     "text": [
      "C:\\Users\\18132\\Anaconda3\\lib\\site-packages\\sklearn\\neural_network\\multilayer_perceptron.py:566: ConvergenceWarning: Stochastic Optimizer: Maximum iterations (200) reached and the optimization hasn't converged yet.\n",
      "  % self.max_iter, ConvergenceWarning)\n"
     ]
    },
    {
     "data": {
      "text/plain": [
       "array([[105,  28],\n",
       "       [ 26, 108]], dtype=int64)"
      ]
     },
     "execution_count": 130,
     "metadata": {},
     "output_type": "execute_result"
    }
   ],
   "source": [
    "# MLP with changed parameters\n",
    "mlp_clf1 = MLPClassifier(hidden_layer_sizes=(50,),activation='logistic',random_state=42)\n",
    "mlp_clf1.fit(X_train_cnp, y_train_cnp)\n",
    "predict_class2 = mlp_clf1.predict(X_test_cnp)\n",
    "confusion_matrix(y_test_cnp, predict_class2)"
   ]
  },
  {
   "cell_type": "markdown",
   "metadata": {},
   "source": [
    "Class:\n",
    "0: Number of cases less than or equal to 10 i.e. median of total cases of dengue\n",
    "\n",
    "1: Number of cases more than to 10 i.e. median of total cases of dengue\n",
    "\n",
    "According to above confusion matrix:\n",
    "\n",
    "It has predicted 0 class correctly 105 times nad wrong 28 times\n",
    "\n",
    "It has predicted 1 class correctly 108 times and wrong 26 times"
   ]
  },
  {
   "cell_type": "code",
   "execution_count": 133,
   "metadata": {},
   "outputs": [
    {
     "name": "stdout",
     "output_type": "stream",
     "text": [
      "Precision score of first MLP classifier:0.77\n",
      "Precision score of second MLP classifier:0.79\n"
     ]
    }
   ],
   "source": [
    "print('Precision score of first MLP classifier:%.2f'%precision_score(y_test_cnp, predict_class1))\n",
    "print('Precision score of second MLP classifier:%.2f'%precision_score(y_test_cnp, predict_class2))"
   ]
  },
  {
   "cell_type": "code",
   "execution_count": 134,
   "metadata": {},
   "outputs": [
    {
     "name": "stdout",
     "output_type": "stream",
     "text": [
      "Recall score of first MLP classifier:0.81\n",
      "Recall score of second MLP classifier:0.81\n"
     ]
    }
   ],
   "source": [
    "print('Recall score of first MLP classifier:%.2f'%recall_score(y_test_cnp, predict_class1))\n",
    "print('Recall score of second MLP classifier:%.2f'%recall_score(y_test_cnp, predict_class2))"
   ]
  },
  {
   "cell_type": "code",
   "execution_count": 135,
   "metadata": {},
   "outputs": [
    {
     "name": "stdout",
     "output_type": "stream",
     "text": [
      "F1 score of first MLP classifier:0.79\n",
      "F1 score of second MLP classifier:0.80\n"
     ]
    }
   ],
   "source": [
    "print('F1 score of first MLP classifier:%.2f'%f1_score(y_test_cnp, predict_class1))\n",
    "print('F1 score of second MLP classifier:%.2f'%f1_score(y_test_cnp, predict_class2))"
   ]
  },
  {
   "cell_type": "markdown",
   "metadata": {},
   "source": [
    "So, we can say, second model is better than first, as, it predicted 0 class better. Also the F1 score and precision score for it is better."
   ]
  },
  {
   "cell_type": "markdown",
   "metadata": {},
   "source": [
    "**7. Explain the meaning of Precision, Recall and F1-Score and why these are used to evaluate Classification models (instead of using Accuracy as a metric). Evaluate the classifier using Precision, Recall and F1 score values**"
   ]
  },
  {
   "cell_type": "markdown",
   "metadata": {},
   "source": [
    "**Precision score:** It helps us to know how well the model predicted the values of classes out of total predicted values\n",
    "\n",
    "**Recall score:** It helps us to know how well the model predicted the values of classes out of total actual values\n",
    "\n",
    "**F1 score:** F1 score is the harmoninc mean of precision and recall, it helps us to assess the model based on single score, when we are unable to assess it based on precision or recall independently.\n",
    "For example, if one algorithm has higher precision but lower recall than other or vice-versa, how can you tell which algorithm is better, so in such cases, we use F1 score\n",
    "\n",
    "If we have unbalanced data, then accuracy will be higher, as it is more inclined towards class with more observation, so in that case, will false assess the classifier as good one and we should use the other scores like precision, recall or F1, as it depends on predicted values with actual values or total predicted values and not biased towards one class."
   ]
  }
 ],
 "metadata": {
  "kernelspec": {
   "display_name": "Python 3",
   "language": "python",
   "name": "python3"
  },
  "language_info": {
   "codemirror_mode": {
    "name": "ipython",
    "version": 3
   },
   "file_extension": ".py",
   "mimetype": "text/x-python",
   "name": "python",
   "nbconvert_exporter": "python",
   "pygments_lexer": "ipython3",
   "version": "3.7.3"
  }
 },
 "nbformat": 4,
 "nbformat_minor": 2
}
